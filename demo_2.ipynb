{
 "cells": [
  {
   "cell_type": "code",
   "id": "7ac09b01-9a09-429e-9f12-4392e0109fc3",
   "metadata": {
    "ExecuteTime": {
     "end_time": "2025-10-06T03:48:09.672925Z",
     "start_time": "2025-10-06T03:48:09.670652Z"
    }
   },
   "source": "import sys",
   "outputs": [],
   "execution_count": 1
  },
  {
   "cell_type": "code",
   "id": "29a57051-60d2-4e3b-9bbf-bf0b0d6ca080",
   "metadata": {
    "ExecuteTime": {
     "end_time": "2025-10-06T03:48:10.405234Z",
     "start_time": "2025-10-06T03:48:10.401849Z"
    }
   },
   "source": [
    "sys.version"
   ],
   "outputs": [
    {
     "data": {
      "text/plain": [
       "'3.13.5 (main, Jun 11 2025, 15:36:57) [Clang 17.0.0 (clang-1700.0.13.3)]'"
      ]
     },
     "execution_count": 2,
     "metadata": {},
     "output_type": "execute_result"
    }
   ],
   "execution_count": 2
  },
  {
   "cell_type": "code",
   "id": "8bcf61bf-1907-4c2f-b45d-1f1c461a39c3",
   "metadata": {
    "ExecuteTime": {
     "end_time": "2025-10-06T03:48:14.849193Z",
     "start_time": "2025-10-06T03:48:14.846224Z"
    }
   },
   "source": [
    "sys._is_gil_enabled()"
   ],
   "outputs": [
    {
     "data": {
      "text/plain": [
       "True"
      ]
     },
     "execution_count": 3,
     "metadata": {},
     "output_type": "execute_result"
    }
   ],
   "execution_count": 3
  },
  {
   "cell_type": "code",
   "id": "7a611f27-5801-4d4a-9826-83da3b1fe5c1",
   "metadata": {
    "ExecuteTime": {
     "end_time": "2025-10-06T03:48:17.222766Z",
     "start_time": "2025-10-06T03:48:16.808197Z"
    }
   },
   "source": [
    "import multiprocess\n",
    "from functools import partial\n",
    "from multiprocessing.shared_memory import SharedMemory\n",
    "from multiprocessing.managers import SharedMemoryManager\n",
    "\n",
    "import matplotlib.pyplot as plt\n",
    "import numpy as np"
   ],
   "outputs": [],
   "execution_count": 4
  },
  {
   "metadata": {},
   "cell_type": "markdown",
   "source": [
    "## Find the shortest path between nodes in a graph\n",
    "\n",
    "In this example, we'll search for a path between two nodes in a graph, represented by an adjacency matrix. The graph used below is very large, so copying it to each process either fills memory or takes a significant amount of time, so we'll use shared memory."
   ],
   "id": "3df55876ac73cd91"
  },
  {
   "cell_type": "code",
   "id": "f93406e4-1392-4db9-8d55-03a2e94ff859",
   "metadata": {
    "ExecuteTime": {
     "end_time": "2025-10-06T03:50:51.401608Z",
     "start_time": "2025-10-06T03:50:51.398465Z"
    }
   },
   "source": [
    "def path_distance(ij, adj_mat: np.ndarray, max_dist=5) -> int:\n",
    "    \"\"\"Find the path distance between nodes `i` and `j` on a graph described by an adjacency matrix, `adj_mat`.\n",
    "    Give up after `max_dist` edge traversals.\n",
    "\n",
    "    Parameters\n",
    "    ----------\n",
    "    ij : tuple of int\n",
    "        Pair of node indices `(i, j)` between which to find the path.\n",
    "    adj_mat : np.ndarray\n",
    "        Adjacency matrix representing the graph.\n",
    "    max_dist : int, optional\n",
    "        Maximum number of edge traversals to search for a path (default is 5).\n",
    "\n",
    "    Returns\n",
    "    -------\n",
    "    int\n",
    "        Number of steps (less than or equal to `max_dist`) between nodes `i` and `j`.\n",
    "        Returns -1 if no path found within the allowed number of steps.\n",
    "\n",
    "    \"\"\"\n",
    "    i, j = ij\n",
    "    if i == j:\n",
    "        return 0\n",
    "    step = 1\n",
    "    connections = adj_mat[i, :]\n",
    "    # import pdb; pdb.set_trace()\n",
    "    while step < max_dist:\n",
    "        if connections[j] > 0:\n",
    "            return step\n",
    "        step += 1\n",
    "        connections = connections @ adj_mat\n",
    "    return -1"
   ],
   "outputs": [],
   "execution_count": 5
  },
  {
   "cell_type": "code",
   "id": "36ae4d3e-4d33-4554-b453-0054b7b3a325",
   "metadata": {
    "ExecuteTime": {
     "end_time": "2025-10-06T03:50:54.144366Z",
     "start_time": "2025-10-06T03:50:54.141531Z"
    }
   },
   "source": [
    "def path_distance_shm(ij, adj_mat_shm: SharedMemory, max_dist=5) -> int:\n",
    "    \"\"\"Run the same path_distance calculation, but using a SharedMemory adjacency matrix.\"\"\"\n",
    "\n",
    "    # Don't bother setting up the big adjacency matrix if i==j, return distance of 0 immediately\n",
    "    i, j = ij\n",
    "    if i == j:\n",
    "        return 0\n",
    "    adj_mat = np.ndarray(shape=(M, M), dtype=np.uint8, buffer=adj_mat_shm.buf)\n",
    "    return path_distance((i, j), adj_mat, max_dist)"
   ],
   "outputs": [],
   "execution_count": 6
  },
  {
   "cell_type": "code",
   "id": "1a559220-c767-436a-8c66-dec7b32eaa37",
   "metadata": {
    "ExecuteTime": {
     "end_time": "2025-10-06T03:51:10.142663Z",
     "start_time": "2025-10-06T03:50:57.913977Z"
    }
   },
   "source": [
    "M = int(5e4)\n",
    "# M = 10\n",
    "N = M * M\n",
    "np.random.seed(0)\n",
    "a1 = (np.random.rand(M, M) < 0.0005).astype(np.uint8)"
   ],
   "outputs": [],
   "execution_count": 7
  },
  {
   "cell_type": "code",
   "id": "c91e5c81-e74b-4a98-b840-e1a025ad245c",
   "metadata": {
    "ExecuteTime": {
     "end_time": "2025-10-06T03:51:10.153720Z",
     "start_time": "2025-10-06T03:51:10.151727Z"
    }
   },
   "source": [
    "# Adjacency matrix takes up 2.5 GB in memory\n",
    "N / 1e9, a1.nbytes / 1e9"
   ],
   "outputs": [
    {
     "data": {
      "text/plain": [
       "(2.5, 2.5)"
      ]
     },
     "execution_count": 8,
     "metadata": {},
     "output_type": "execute_result"
    }
   ],
   "execution_count": 8
  },
  {
   "cell_type": "code",
   "id": "041cf91c-c2e4-4e0a-a89a-6e1d12949c13",
   "metadata": {
    "ExecuteTime": {
     "end_time": "2025-10-06T03:52:03.739703Z",
     "start_time": "2025-10-06T03:52:03.243080Z"
    }
   },
   "source": [
    "plt.figure()\n",
    "plt.hist(a1.sum(axis=1) / M, 30)\n",
    "plt.title('Histogram of the number of outbound connections for all nodes in the network')\n",
    "plt.show()"
   ],
   "outputs": [
    {
     "data": {
      "text/plain": [
       "<Figure size 640x480 with 1 Axes>"
      ],
      "image/png": "[encoded data removed]"
     },
     "metadata": {},
     "output_type": "display_data",
     "jetTransient": {
      "display_id": null
     }
    }
   ],
   "execution_count": 9
  },
  {
   "cell_type": "code",
   "id": "e7b55f80-06f9-470c-8e3a-3b2fe02b1dd7",
   "metadata": {
    "ExecuteTime": {
     "end_time": "2025-10-06T03:52:27.029998Z",
     "start_time": "2025-10-06T03:52:10.523993Z"
    }
   },
   "source": [
    "%%time\n",
    "path_distance((5, 10), a1)"
   ],
   "outputs": [
    {
     "name": "stdout",
     "output_type": "stream",
     "text": [
      "CPU times: user 16.4 s, sys: 133 ms, total: 16.5 s\n",
      "Wall time: 16.5 s\n"
     ]
    },
    {
     "data": {
      "text/plain": [
       "4"
      ]
     },
     "execution_count": 10,
     "metadata": {},
     "output_type": "execute_result"
    }
   ],
   "execution_count": 10
  },
  {
   "cell_type": "code",
   "id": "61f34bd1-1c89-4706-b4ac-f1a2b0acd0e2",
   "metadata": {
    "ExecuteTime": {
     "end_time": "2025-10-06T03:52:44.060671Z",
     "start_time": "2025-10-06T03:52:27.054463Z"
    }
   },
   "source": [
    "%%time\n",
    "path_distance((4, 15), a1)"
   ],
   "outputs": [
    {
     "name": "stdout",
     "output_type": "stream",
     "text": [
      "CPU times: user 16.8 s, sys: 173 ms, total: 17 s\n",
      "Wall time: 17 s\n"
     ]
    },
    {
     "data": {
      "text/plain": [
       "4"
      ]
     },
     "execution_count": 11,
     "metadata": {},
     "output_type": "execute_result"
    }
   ],
   "execution_count": 11
  },
  {
   "cell_type": "code",
   "id": "d3c6fc29-bc46-47db-ba04-560bac330767",
   "metadata": {
    "ExecuteTime": {
     "end_time": "2025-10-06T03:55:55.740910Z",
     "start_time": "2025-10-06T03:52:44.082011Z"
    }
   },
   "source": [
    "%%time\n",
    "distances = [path_distance((i, j), a1) for i in range(4) for j in range(4)]"
   ],
   "outputs": [
    {
     "name": "stdout",
     "output_type": "stream",
     "text": [
      "CPU times: user 3min 10s, sys: 954 ms, total: 3min 11s\n",
      "Wall time: 3min 11s\n"
     ]
    }
   ],
   "execution_count": 12
  },
  {
   "cell_type": "code",
   "id": "43379ced-6134-47b0-8523-53fcab1f0908",
   "metadata": {
    "ExecuteTime": {
     "end_time": "2025-10-06T03:55:55.779425Z",
     "start_time": "2025-10-06T03:55:55.776949Z"
    }
   },
   "source": [
    "dict(sorted(zip(*np.unique(distances, return_counts=True)), key=lambda tup: tup[1], reverse=True))"
   ],
   "outputs": [
    {
     "data": {
      "text/plain": [
       "{np.int64(4): np.int64(10), np.int64(0): np.int64(4), np.int64(3): np.int64(2)}"
      ]
     },
     "execution_count": 13,
     "metadata": {},
     "output_type": "execute_result"
    }
   ],
   "execution_count": 13
  },
  {
   "cell_type": "code",
   "id": "31764938-ecd6-4446-9df1-8dcfcc6d4b8b",
   "metadata": {
    "ExecuteTime": {
     "end_time": "2025-10-06T03:55:55.784623Z",
     "start_time": "2025-10-06T03:55:55.782951Z"
    }
   },
   "source": [
    "multiprocess.cpu_count()"
   ],
   "outputs": [
    {
     "data": {
      "text/plain": [
       "16"
      ]
     },
     "execution_count": 14,
     "metadata": {},
     "output_type": "execute_result"
    }
   ],
   "execution_count": 14
  },
  {
   "cell_type": "code",
   "id": "af6fad6e-c9b6-4a2c-8e94-aefb4607745f",
   "metadata": {
    "ExecuteTime": {
     "end_time": "2025-10-06T03:57:20.311932Z",
     "start_time": "2025-10-06T03:55:55.787979Z"
    }
   },
   "source": [
    "%%time\n",
    "with SharedMemoryManager() as smm:\n",
    "    a1_shm = smm.SharedMemory(size=N)\n",
    "    a1_buf = np.ndarray(shape=(M, M), dtype=np.uint8, buffer=a1_shm.buf)\n",
    "    a1_buf[:] = a1[:]\n",
    "    f = partial(path_distance_shm, adj_mat_shm=a1_shm)\n",
    "    with multiprocess.Pool() as p:\n",
    "        distances_par = p.map(f, ((i, j) for i in range(4) for j in range(4)))"
   ],
   "outputs": [
    {
     "name": "stdout",
     "output_type": "stream",
     "text": [
      "CPU times: user 72.1 ms, sys: 140 ms, total: 212 ms\n",
      "Wall time: 1min 24s\n"
     ]
    }
   ],
   "execution_count": 15
  },
  {
   "cell_type": "code",
   "id": "b6e13f3e-250d-4365-8cb2-f096925c9479",
   "metadata": {
    "ExecuteTime": {
     "end_time": "2025-10-06T03:57:20.355082Z",
     "start_time": "2025-10-06T03:57:20.352770Z"
    }
   },
   "source": [
    "dict(sorted(zip(*np.unique(distances_par, return_counts=True)), key=lambda tup: tup[1], reverse=True))"
   ],
   "outputs": [
    {
     "data": {
      "text/plain": [
       "{np.int64(4): np.int64(10), np.int64(0): np.int64(4), np.int64(3): np.int64(2)}"
      ]
     },
     "execution_count": 16,
     "metadata": {},
     "output_type": "execute_result"
    }
   ],
   "execution_count": 16
  },
  {
   "metadata": {},
   "cell_type": "markdown",
   "source": "Running this over the process pool cut the time down by more than half, so that's an improvement. This is even faster in free-threaded python, though not because of speedups in the path_distance function, but because of removing the overhead of spawning/forking new workers.",
   "id": "f7f814425f18709f"
  },
  {
   "metadata": {},
   "cell_type": "code",
   "outputs": [],
   "execution_count": null,
   "source": "",
   "id": "86191379f2177951"
  }
 ],
 "metadata": {
  "kernelspec": {
   "display_name": "Python 3 (ipykernel)",
   "language": "python",
   "name": "python3"
  },
  "language_info": {
   "codemirror_mode": {
    "name": "ipython",
    "version": 3
   },
   "file_extension": ".py",
   "mimetype": "text/x-python",
   "name": "python",
   "nbconvert_exporter": "python",
   "pygments_lexer": "ipython3",
   "version": "3.14.0rc1"
  }
 },
 "nbformat": 4,
 "nbformat_minor": 5
}
