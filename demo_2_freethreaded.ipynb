{
 "cells": [
  {
   "cell_type": "code",
   "id": "7ac09b01-9a09-429e-9f12-4392e0109fc3",
   "metadata": {
    "ExecuteTime": {
     "end_time": "2025-10-06T03:58:35.360981Z",
     "start_time": "2025-10-06T03:58:35.359052Z"
    }
   },
   "source": [
    "import sys"
   ],
   "outputs": [],
   "execution_count": 1
  },
  {
   "cell_type": "code",
   "id": "29a57051-60d2-4e3b-9bbf-bf0b0d6ca080",
   "metadata": {
    "ExecuteTime": {
     "end_time": "2025-10-06T03:58:35.367405Z",
     "start_time": "2025-10-06T03:58:35.365044Z"
    }
   },
   "source": [
    "sys.version"
   ],
   "outputs": [
    {
     "data": {
      "text/plain": [
       "'3.14.0rc1 free-threading build (v3.14.0rc1:48f88310044, Jul 22 2025, 13:19:27) [Clang 16.0.0 (clang-1600.0.26.6)]'"
      ]
     },
     "execution_count": 2,
     "metadata": {},
     "output_type": "execute_result"
    }
   ],
   "execution_count": 2
  },
  {
   "cell_type": "code",
   "id": "8bcf61bf-1907-4c2f-b45d-1f1c461a39c3",
   "metadata": {
    "ExecuteTime": {
     "end_time": "2025-10-06T03:58:35.383338Z",
     "start_time": "2025-10-06T03:58:35.381565Z"
    }
   },
   "source": [
    "sys._is_gil_enabled()"
   ],
   "outputs": [
    {
     "data": {
      "text/plain": [
       "False"
      ]
     },
     "execution_count": 3,
     "metadata": {},
     "output_type": "execute_result"
    }
   ],
   "execution_count": 3
  },
  {
   "cell_type": "code",
   "id": "7a611f27-5801-4d4a-9826-83da3b1fe5c1",
   "metadata": {
    "ExecuteTime": {
     "end_time": "2025-10-06T03:59:45.819039Z",
     "start_time": "2025-10-06T03:59:45.708305Z"
    }
   },
   "source": [
    "import concurrent.futures\n",
    "from functools import partial\n",
    "\n",
    "import numpy as np"
   ],
   "outputs": [],
   "execution_count": 6
  },
  {
   "cell_type": "code",
   "id": "f93406e4-1392-4db9-8d55-03a2e94ff859",
   "metadata": {
    "ExecuteTime": {
     "end_time": "2025-10-06T03:59:54.247523Z",
     "start_time": "2025-10-06T03:59:54.244017Z"
    }
   },
   "source": [
    "def path_distance(ij, adj_mat: np.ndarray, max_dist=5) -> int:\n",
    "    \"\"\"Find the path distance between nodes `i` and `j` on a graph described by an adjacency matrix, `adj_mat`.\n",
    "    Give up after `max_dist` edge traversals.\n",
    "\n",
    "    Returns\n",
    "    -------\n",
    "    int\n",
    "        Number of steps (less than or equal to `max_dist`) between nodes `i` and `j`.\n",
    "        Returns -1 if no path found within the allowed number of steps.\n",
    "    \"\"\"\n",
    "    i, j = ij\n",
    "    if i == j:\n",
    "        return 0\n",
    "    step = 1\n",
    "    connections = adj_mat[i, :]\n",
    "    # import pdb; pdb.set_trace()\n",
    "    while step < max_dist:\n",
    "        if connections[j] > 0:\n",
    "            return step\n",
    "        step += 1\n",
    "        connections = connections @ adj_mat\n",
    "    return -1"
   ],
   "outputs": [],
   "execution_count": 7
  },
  {
   "cell_type": "code",
   "id": "1a559220-c767-436a-8c66-dec7b32eaa37",
   "metadata": {
    "ExecuteTime": {
     "end_time": "2025-10-06T04:00:07.698821Z",
     "start_time": "2025-10-06T03:59:54.452862Z"
    }
   },
   "source": [
    "M = int(5e4)\n",
    "# M = 10\n",
    "N = M * M\n",
    "np.random.seed(0)\n",
    "a1 = (np.random.rand(M, M) < 0.0005).astype(np.uint8)"
   ],
   "outputs": [],
   "execution_count": 8
  },
  {
   "cell_type": "code",
   "id": "c91e5c81-e74b-4a98-b840-e1a025ad245c",
   "metadata": {
    "ExecuteTime": {
     "end_time": "2025-10-06T04:00:07.710410Z",
     "start_time": "2025-10-06T04:00:07.708568Z"
    }
   },
   "source": [
    "# Adjacency matrix takes up 2.5 GB or memory\n",
    "a1.nbytes / 1e9"
   ],
   "outputs": [
    {
     "data": {
      "text/plain": [
       "2.5"
      ]
     },
     "execution_count": 9,
     "metadata": {},
     "output_type": "execute_result"
    }
   ],
   "execution_count": 9
  },
  {
   "cell_type": "code",
   "id": "e7b55f80-06f9-470c-8e3a-3b2fe02b1dd7",
   "metadata": {
    "ExecuteTime": {
     "end_time": "2025-10-06T04:00:23.446574Z",
     "start_time": "2025-10-06T04:00:07.735683Z"
    }
   },
   "source": [
    "%%time\n",
    "path_distance((5, 10), a1)"
   ],
   "outputs": [
    {
     "name": "stdout",
     "output_type": "stream",
     "text": [
      "CPU times: user 15.7 s, sys: 42.4 ms, total: 15.7 s\n",
      "Wall time: 15.7 s\n"
     ]
    },
    {
     "data": {
      "text/plain": [
       "4"
      ]
     },
     "execution_count": 10,
     "metadata": {},
     "output_type": "execute_result"
    }
   ],
   "execution_count": 10
  },
  {
   "cell_type": "code",
   "id": "61f34bd1-1c89-4706-b4ac-f1a2b0acd0e2",
   "metadata": {
    "ExecuteTime": {
     "end_time": "2025-10-06T04:00:39.534613Z",
     "start_time": "2025-10-06T04:00:23.475726Z"
    }
   },
   "source": [
    "%%time\n",
    "path_distance((4, 15), a1)"
   ],
   "outputs": [
    {
     "name": "stdout",
     "output_type": "stream",
     "text": [
      "CPU times: user 16 s, sys: 44.7 ms, total: 16.1 s\n",
      "Wall time: 16.1 s\n"
     ]
    },
    {
     "data": {
      "text/plain": [
       "4"
      ]
     },
     "execution_count": 11,
     "metadata": {},
     "output_type": "execute_result"
    }
   ],
   "execution_count": 11
  },
  {
   "cell_type": "code",
   "id": "9274d775-d396-403a-942b-68c8956fc99a",
   "metadata": {
    "ExecuteTime": {
     "end_time": "2025-10-06T04:03:55.815232Z",
     "start_time": "2025-10-06T04:03:04.246222Z"
    }
   },
   "source": [
    "%%time\n",
    "f = partial(path_distance, adj_mat=a1)\n",
    "with concurrent.futures.ThreadPoolExecutor() as p:\n",
    "    distances_par_tasks = [p.submit(f, (i, j)) for i in range(4) for j in range(4)]\n",
    "    distances_par_results = [t.result() for t in distances_par_tasks]"
   ],
   "outputs": [
    {
     "name": "stdout",
     "output_type": "stream",
     "text": [
      "CPU times: user 9min 46s, sys: 2.04 s, total: 9min 48s\n",
      "Wall time: 51.6 s\n"
     ]
    }
   ],
   "execution_count": 13
  },
  {
   "cell_type": "code",
   "id": "a0531b6f-2e55-461a-9ff3-f937832c34f0",
   "metadata": {
    "ExecuteTime": {
     "end_time": "2025-10-06T04:32:18.865599Z",
     "start_time": "2025-10-06T04:32:18.863235Z"
    }
   },
   "source": "dict(sorted(zip(*np.unique(distances_par_results, return_counts=True)), key=lambda tup: tup[1], reverse=True))",
   "outputs": [
    {
     "data": {
      "text/plain": [
       "{np.int64(4): np.int64(10), np.int64(0): np.int64(4), np.int64(3): np.int64(2)}"
      ]
     },
     "execution_count": 15,
     "metadata": {},
     "output_type": "execute_result"
    }
   ],
   "execution_count": 15
  },
  {
   "cell_type": "code",
   "execution_count": null,
   "id": "6a1f1282-dfdd-47e7-8b03-7f724311be8b",
   "metadata": {},
   "outputs": [],
   "source": []
  }
 ],
 "metadata": {
  "kernelspec": {
   "display_name": "python3.14t",
   "language": "python",
   "name": "python3.14t"
  },
  "language_info": {
   "codemirror_mode": {
    "name": "ipython",
    "version": 3
   },
   "file_extension": ".py",
   "mimetype": "text/x-python",
   "name": "python",
   "nbconvert_exporter": "python",
   "pygments_lexer": "ipython3",
   "version": "3.14.0rc1"
  }
 },
 "nbformat": 4,
 "nbformat_minor": 5
}
