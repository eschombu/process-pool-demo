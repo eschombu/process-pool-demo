{
 "cells": [
  {
   "cell_type": "code",
   "id": "7ac09b01-9a09-429e-9f12-4392e0109fc3",
   "metadata": {
    "ExecuteTime": {
     "end_time": "2025-10-06T03:39:05.595298Z",
     "start_time": "2025-10-06T03:39:05.592689Z"
    }
   },
   "source": [
    "import sys"
   ],
   "outputs": [],
   "execution_count": 1
  },
  {
   "cell_type": "code",
   "id": "29a57051-60d2-4e3b-9bbf-bf0b0d6ca080",
   "metadata": {
    "ExecuteTime": {
     "end_time": "2025-10-06T03:39:06.523Z",
     "start_time": "2025-10-06T03:39:06.519514Z"
    }
   },
   "source": [
    "sys.version"
   ],
   "outputs": [
    {
     "data": {
      "text/plain": [
       "'3.13.5 (main, Jun 11 2025, 15:36:57) [Clang 17.0.0 (clang-1700.0.13.3)]'"
      ]
     },
     "execution_count": 2,
     "metadata": {},
     "output_type": "execute_result"
    }
   ],
   "execution_count": 2
  },
  {
   "cell_type": "code",
   "id": "8bcf61bf-1907-4c2f-b45d-1f1c461a39c3",
   "metadata": {
    "ExecuteTime": {
     "end_time": "2025-10-06T03:39:06.711426Z",
     "start_time": "2025-10-06T03:39:06.708835Z"
    }
   },
   "source": [
    "sys._is_gil_enabled()"
   ],
   "outputs": [
    {
     "data": {
      "text/plain": [
       "True"
      ]
     },
     "execution_count": 3,
     "metadata": {},
     "output_type": "execute_result"
    }
   ],
   "execution_count": 3
  },
  {
   "cell_type": "code",
   "id": "81f74cef-060d-4ce6-ad56-7335e41df6d3",
   "metadata": {
    "ExecuteTime": {
     "end_time": "2025-10-06T03:39:06.894032Z",
     "start_time": "2025-10-06T03:39:06.886106Z"
    }
   },
   "source": [
    "import multiprocessing"
   ],
   "outputs": [],
   "execution_count": 4
  },
  {
   "cell_type": "code",
   "id": "db09a04e-1629-4fc5-8770-973d2b04f783",
   "metadata": {
    "ExecuteTime": {
     "end_time": "2025-10-06T03:39:07.063957Z",
     "start_time": "2025-10-06T03:39:07.061514Z"
    }
   },
   "source": "multiprocessing.set_start_method('fork')  # Does not work on Windows",
   "outputs": [],
   "execution_count": 5
  },
  {
   "cell_type": "code",
   "id": "3b05bbd7-6955-45d6-a7b2-0071e60c1a56",
   "metadata": {
    "ExecuteTime": {
     "end_time": "2025-10-06T03:39:07.245392Z",
     "start_time": "2025-10-06T03:39:07.242659Z"
    }
   },
   "source": [
    "# from functions import long_factorize\n",
    "from utils import display_results, timed"
   ],
   "outputs": [],
   "execution_count": 6
  },
  {
   "cell_type": "code",
   "id": "bfbd215a-0123-4e59-a49f-bc182d95f473",
   "metadata": {
    "ExecuteTime": {
     "end_time": "2025-10-06T03:39:07.433906Z",
     "start_time": "2025-10-06T03:39:07.430833Z"
    }
   },
   "source": [
    "@timed\n",
    "def long_factorize(offset, base=100000001, verbose=False):\n",
    "    def vprint(*args, **kwargs):\n",
    "        if verbose:\n",
    "            print(*args, **kwargs)\n",
    "\n",
    "    value = base + offset\n",
    "    vprint(f\"Finding factors of {base} + {offset} = {value}\")\n",
    "    next_guess = int(value / 2)\n",
    "    while next_guess > 1 and (value % next_guess):\n",
    "        next_guess -= 1\n",
    "    f1 = next_guess\n",
    "    f2 = value // next_guess\n",
    "    vprint(f\"{f1 * f2} = {f1} * {f2}\")\n",
    "    return value, f1, f2"
   ],
   "outputs": [],
   "execution_count": 7
  },
  {
   "cell_type": "code",
   "id": "b0639eb3-267b-4b8d-9b37-11a6aeb5382a",
   "metadata": {
    "ExecuteTime": {
     "end_time": "2025-10-06T03:39:09.920585Z",
     "start_time": "2025-10-06T03:39:07.626880Z"
    }
   },
   "source": [
    "display_results(long_factorize, 10, multiprocessing.Pool, 'map')"
   ],
   "outputs": [
    {
     "name": "stdout",
     "output_type": "stream",
     "text": [
      "Running: long_factorize\n",
      "Results: ((100000001, 5882353, 17), (100000002, 50000001, 2), (100000003, 155521, 643), (100000004, 50000002, 2), (100000005, 33333335, 3), (100000006, 50000003, 2), (100000007, 1, 100000007), (100000008, 50000004, 2), (100000009, 671141, 149), (100000010, 50000005, 2))\n",
      "Task times: 1.98 + 1.48e-05 + 2.24 + 1.62e-05 + 0.745 + 7.87e-06 + 2.24 + 8.82e-06 + 2.21 + 1.53e-05 = 9.41\n",
      "Actual time: 2.2908449172973633\n"
     ]
    }
   ],
   "execution_count": 8
  },
  {
   "metadata": {},
   "cell_type": "code",
   "outputs": [],
   "execution_count": null,
   "source": "",
   "id": "3eb9406356820038"
  }
 ],
 "metadata": {
  "kernelspec": {
   "display_name": "Python 3 (ipykernel)",
   "language": "python",
   "name": "python3"
  },
  "language_info": {
   "codemirror_mode": {
    "name": "ipython",
    "version": 3
   },
   "file_extension": ".py",
   "mimetype": "text/x-python",
   "name": "python",
   "nbconvert_exporter": "python",
   "pygments_lexer": "ipython3",
   "version": "3.13.5"
  }
 },
 "nbformat": 4,
 "nbformat_minor": 5
}
