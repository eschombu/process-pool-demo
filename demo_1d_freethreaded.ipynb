{
 "cells": [
  {
   "cell_type": "code",
   "id": "7ac09b01-9a09-429e-9f12-4392e0109fc3",
   "metadata": {
    "ExecuteTime": {
     "end_time": "2025-10-06T03:39:33.771175Z",
     "start_time": "2025-10-06T03:39:33.769263Z"
    }
   },
   "source": [
    "import sys"
   ],
   "outputs": [],
   "execution_count": 1
  },
  {
   "cell_type": "code",
   "id": "29a57051-60d2-4e3b-9bbf-bf0b0d6ca080",
   "metadata": {
    "ExecuteTime": {
     "end_time": "2025-10-06T03:39:34.155681Z",
     "start_time": "2025-10-06T03:39:34.151421Z"
    }
   },
   "source": [
    "sys.version"
   ],
   "outputs": [
    {
     "data": {
      "text/plain": [
       "'3.14.0rc1 free-threading build (v3.14.0rc1:48f88310044, Jul 22 2025, 13:19:27) [Clang 16.0.0 (clang-1600.0.26.6)]'"
      ]
     },
     "execution_count": 2,
     "metadata": {},
     "output_type": "execute_result"
    }
   ],
   "execution_count": 2
  },
  {
   "cell_type": "code",
   "id": "8bcf61bf-1907-4c2f-b45d-1f1c461a39c3",
   "metadata": {
    "ExecuteTime": {
     "end_time": "2025-10-06T03:39:35.032197Z",
     "start_time": "2025-10-06T03:39:35.030376Z"
    }
   },
   "source": [
    "sys._is_gil_enabled()"
   ],
   "outputs": [
    {
     "data": {
      "text/plain": [
       "False"
      ]
     },
     "execution_count": 3,
     "metadata": {},
     "output_type": "execute_result"
    }
   ],
   "execution_count": 3
  },
  {
   "cell_type": "code",
   "id": "7a611f27-5801-4d4a-9826-83da3b1fe5c1",
   "metadata": {
    "ExecuteTime": {
     "end_time": "2025-10-06T03:41:16.910706Z",
     "start_time": "2025-10-06T03:41:16.906934Z"
    }
   },
   "source": [
    "import concurrent.futures\n",
    "from functools import partial, wraps\n",
    "from random import gauss\n",
    "from time import sleep, time\n",
    "\n",
    "from utils import display_results, timed"
   ],
   "outputs": [],
   "execution_count": 5
  },
  {
   "cell_type": "code",
   "id": "326db997-cc54-42eb-88c4-8af02fe77b7a",
   "metadata": {
    "ExecuteTime": {
     "end_time": "2025-10-06T03:41:18.111044Z",
     "start_time": "2025-10-06T03:41:18.108288Z"
    }
   },
   "source": [
    "@timed\n",
    "def long_factorize(offset, base=100000001, verbose=False):\n",
    "    def vprint(*args, **kwargs):\n",
    "        if verbose:\n",
    "            print(*args, **kwargs)\n",
    "\n",
    "    value = base + offset\n",
    "    vprint(f\"Finding factors of {base} + {offset} = {value}\")\n",
    "    next_guess = int(value / 2)\n",
    "    while next_guess > 1 and (value % next_guess):\n",
    "        next_guess -= 1\n",
    "    f1 = next_guess\n",
    "    f2 = value // next_guess\n",
    "    vprint(f\"{f1 * f2} = {f1} * {f2}\")\n",
    "    return value, f1, f2"
   ],
   "outputs": [],
   "execution_count": 6
  },
  {
   "cell_type": "code",
   "id": "dbd08c3e-67df-477c-8666-48591203dc2e",
   "metadata": {
    "ExecuteTime": {
     "end_time": "2025-10-06T03:41:23.821623Z",
     "start_time": "2025-10-06T03:41:22.553534Z"
    }
   },
   "source": [
    "display_results(long_factorize, 10, concurrent.futures.ThreadPoolExecutor, 'submit')"
   ],
   "outputs": [
    {
     "name": "stdout",
     "output_type": "stream",
     "text": [
      "Running: long_factorize\n",
      "Results: ((100000001, 5882353, 17), (100000002, 50000001, 2), (100000003, 155521, 643), (100000004, 50000002, 2), (100000005, 33333335, 3), (100000006, 50000003, 2), (100000007, 1, 100000007), (100000008, 50000004, 2), (100000009, 671141, 149), (100000010, 50000005, 2))\n",
      "Task times: 1.15 + 7.58e-05 + 1.26 + 0.000112 + 0.472 + 0.000123 + 1.17 + 2.79e-05 + 1.04 + 8.2e-05 = 5.1\n",
      "Actual time: 1.2655830383300781\n"
     ]
    }
   ],
   "execution_count": 7
  },
  {
   "cell_type": "code",
   "id": "a0531b6f-2e55-461a-9ff3-f937832c34f0",
   "metadata": {
    "ExecuteTime": {
     "end_time": "2025-10-06T03:41:27.700613Z",
     "start_time": "2025-10-06T03:41:26.790108Z"
    }
   },
   "source": [
    "%%time\n",
    "long_factorize(0, verbose=True)"
   ],
   "outputs": [
    {
     "name": "stdout",
     "output_type": "stream",
     "text": [
      "Finding factors of 100000001 + 0 = 100000001\n",
      "100000001 = 5882353 * 17\n",
      "CPU times: user 905 ms, sys: 4.38 ms, total: 909 ms\n",
      "Wall time: 907 ms\n"
     ]
    },
    {
     "data": {
      "text/plain": [
       "((100000001, 5882353, 17), 0.9074141979217529)"
      ]
     },
     "execution_count": 8,
     "metadata": {},
     "output_type": "execute_result"
    }
   ],
   "execution_count": 8
  },
  {
   "metadata": {},
   "cell_type": "markdown",
   "source": "Note the substantial speedup of `long_factorize` in Python 3.14t from Python 3.13! Some optimization has definitely taken place, though I'm not sure where and how.",
   "id": "6ef2b2b2efcb2ddc"
  },
  {
   "metadata": {},
   "cell_type": "code",
   "outputs": [],
   "execution_count": null,
   "source": "",
   "id": "2b9eaaf7109708a2"
  }
 ],
 "metadata": {
  "kernelspec": {
   "display_name": "python3.14t",
   "language": "python",
   "name": "python3.14t"
  },
  "language_info": {
   "codemirror_mode": {
    "name": "ipython",
    "version": 3
   },
   "file_extension": ".py",
   "mimetype": "text/x-python",
   "name": "python",
   "nbconvert_exporter": "python",
   "pygments_lexer": "ipython3",
   "version": "3.14.0rc1"
  }
 },
 "nbformat": 4,
 "nbformat_minor": 5
}
