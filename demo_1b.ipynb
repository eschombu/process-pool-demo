{
 "cells": [
  {
   "cell_type": "code",
   "id": "7ac09b01-9a09-429e-9f12-4392e0109fc3",
   "metadata": {
    "ExecuteTime": {
     "end_time": "2025-10-06T03:36:17.641775Z",
     "start_time": "2025-10-06T03:36:17.639342Z"
    }
   },
   "source": [
    "import sys"
   ],
   "outputs": [],
   "execution_count": 1
  },
  {
   "cell_type": "code",
   "id": "29a57051-60d2-4e3b-9bbf-bf0b0d6ca080",
   "metadata": {
    "ExecuteTime": {
     "end_time": "2025-10-06T03:36:17.648663Z",
     "start_time": "2025-10-06T03:36:17.645573Z"
    }
   },
   "source": [
    "sys.version"
   ],
   "outputs": [
    {
     "data": {
      "text/plain": [
       "'3.13.5 (main, Jun 11 2025, 15:36:57) [Clang 17.0.0 (clang-1700.0.13.3)]'"
      ]
     },
     "execution_count": 2,
     "metadata": {},
     "output_type": "execute_result"
    }
   ],
   "execution_count": 2
  },
  {
   "cell_type": "code",
   "id": "8bcf61bf-1907-4c2f-b45d-1f1c461a39c3",
   "metadata": {
    "ExecuteTime": {
     "end_time": "2025-10-06T03:36:17.680682Z",
     "start_time": "2025-10-06T03:36:17.678705Z"
    }
   },
   "source": [
    "sys._is_gil_enabled()"
   ],
   "outputs": [
    {
     "data": {
      "text/plain": [
       "True"
      ]
     },
     "execution_count": 3,
     "metadata": {},
     "output_type": "execute_result"
    }
   ],
   "execution_count": 3
  },
  {
   "cell_type": "code",
   "id": "81f74cef-060d-4ce6-ad56-7335e41df6d3",
   "metadata": {
    "ExecuteTime": {
     "end_time": "2025-10-06T03:36:17.884801Z",
     "start_time": "2025-10-06T03:36:17.880259Z"
    }
   },
   "source": [
    "import multiprocessing"
   ],
   "outputs": [],
   "execution_count": 4
  },
  {
   "cell_type": "code",
   "id": "3b05bbd7-6955-45d6-a7b2-0071e60c1a56",
   "metadata": {
    "ExecuteTime": {
     "end_time": "2025-10-06T03:36:18.964647Z",
     "start_time": "2025-10-06T03:36:18.957695Z"
    }
   },
   "source": [
    "from functions import long_factorize\n",
    "from utils import display_results"
   ],
   "outputs": [],
   "execution_count": 5
  },
  {
   "cell_type": "code",
   "id": "b0639eb3-267b-4b8d-9b37-11a6aeb5382a",
   "metadata": {
    "ExecuteTime": {
     "end_time": "2025-10-06T03:36:38.329104Z",
     "start_time": "2025-10-06T03:36:35.988361Z"
    }
   },
   "source": [
    "display_results(long_factorize, 10, multiprocessing.Pool, 'map')"
   ],
   "outputs": [
    {
     "name": "stdout",
     "output_type": "stream",
     "text": [
      "Running: long_factorize\n",
      "Results: ((100000001, 5882353, 17), (100000002, 50000001, 2), (100000003, 155521, 643), (100000004, 50000002, 2), (100000005, 33333335, 3), (100000006, 50000003, 2), (100000007, 1, 100000007), (100000008, 50000004, 2), (100000009, 671141, 149), (100000010, 50000005, 2))\n",
      "Task times: 1.98 + 2.86e-06 + 2.25 + 3.1e-06 + 0.714 + 2.15e-06 + 2.13 + 1.91e-06 + 2.22 + 3.1e-06 = 9.3\n",
      "Actual time: 2.3382179737091064\n"
     ]
    }
   ],
   "execution_count": 6
  },
  {
   "cell_type": "code",
   "execution_count": null,
   "id": "dbd08c3e-67df-477c-8666-48591203dc2e",
   "metadata": {},
   "outputs": [],
   "source": []
  }
 ],
 "metadata": {
  "kernelspec": {
   "display_name": "Python 3 (ipykernel)",
   "language": "python",
   "name": "python3"
  },
  "language_info": {
   "codemirror_mode": {
    "name": "ipython",
    "version": 3
   },
   "file_extension": ".py",
   "mimetype": "text/x-python",
   "name": "python",
   "nbconvert_exporter": "python",
   "pygments_lexer": "ipython3",
   "version": "3.13.5"
  }
 },
 "nbformat": 4,
 "nbformat_minor": 5
}
