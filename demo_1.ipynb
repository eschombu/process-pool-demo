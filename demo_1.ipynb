{
 "cells": [
  {
   "cell_type": "code",
   "id": "7ac09b01-9a09-429e-9f12-4392e0109fc3",
   "metadata": {
    "ExecuteTime": {
     "end_time": "2025-10-06T03:27:49.113786Z",
     "start_time": "2025-10-06T03:27:49.110092Z"
    }
   },
   "source": [
    "import sys"
   ],
   "outputs": [],
   "execution_count": 1
  },
  {
   "cell_type": "code",
   "id": "29a57051-60d2-4e3b-9bbf-bf0b0d6ca080",
   "metadata": {
    "ExecuteTime": {
     "end_time": "2025-10-06T03:27:50.454441Z",
     "start_time": "2025-10-06T03:27:50.449606Z"
    }
   },
   "source": [
    "sys.version"
   ],
   "outputs": [
    {
     "data": {
      "text/plain": [
       "'3.13.5 (main, Jun 11 2025, 15:36:57) [Clang 17.0.0 (clang-1700.0.13.3)]'"
      ]
     },
     "execution_count": 2,
     "metadata": {},
     "output_type": "execute_result"
    }
   ],
   "execution_count": 2
  },
  {
   "cell_type": "code",
   "id": "8bcf61bf-1907-4c2f-b45d-1f1c461a39c3",
   "metadata": {
    "ExecuteTime": {
     "end_time": "2025-10-06T03:27:50.674898Z",
     "start_time": "2025-10-06T03:27:50.672077Z"
    }
   },
   "source": [
    "sys._is_gil_enabled()"
   ],
   "outputs": [
    {
     "data": {
      "text/plain": [
       "True"
      ]
     },
     "execution_count": 3,
     "metadata": {},
     "output_type": "execute_result"
    }
   ],
   "execution_count": 3
  },
  {
   "cell_type": "code",
   "id": "7a611f27-5801-4d4a-9826-83da3b1fe5c1",
   "metadata": {
    "ExecuteTime": {
     "end_time": "2025-10-06T03:34:45.810442Z",
     "start_time": "2025-10-06T03:34:45.807967Z"
    }
   },
   "source": [
    "import concurrent.futures\n",
    "import multiprocessing\n",
    "from functools import partial, wraps\n",
    "from random import gauss\n",
    "from time import sleep, time"
   ],
   "outputs": [],
   "execution_count": 19
  },
  {
   "cell_type": "markdown",
   "id": "2c371c4f-86e8-4a90-bdc6-ac5da7bfa896",
   "metadata": {},
   "source": [
    "## Set up some utilities for timing function calls and submitting them to a thread or process pool"
   ]
  },
  {
   "cell_type": "code",
   "id": "11d8fd65-1b41-4715-8a80-edbe23d22f7b",
   "metadata": {
    "ExecuteTime": {
     "end_time": "2025-10-06T03:27:51.515876Z",
     "start_time": "2025-10-06T03:27:51.512817Z"
    }
   },
   "source": [
    "def timed(f):\n",
    "    \"\"\"\n",
    "    Decorator to measure the execution time of a function.\n",
    "\n",
    "    Parameters\n",
    "    ----------\n",
    "    f : callable\n",
    "        The function whose execution time is to be measured.\n",
    "\n",
    "    Returns\n",
    "    -------\n",
    "    callable\n",
    "        A wrapped function that returns a tuple (result, elapsed_time), where\n",
    "        `result` is the output of the original function and `elapsed_time` is\n",
    "        the time taken in seconds.\n",
    "    \"\"\"\n",
    "    @wraps(f)\n",
    "    def f_timed(*args, **kwargs):\n",
    "        t0 = time()\n",
    "        result = f(*args, **kwargs)\n",
    "        t = time() - t0\n",
    "        return result, t\n",
    "\n",
    "    return f_timed"
   ],
   "outputs": [],
   "execution_count": 5
  },
  {
   "cell_type": "code",
   "id": "8869632c-86d3-4919-aa78-934c8379703d",
   "metadata": {
    "ExecuteTime": {
     "end_time": "2025-10-06T03:27:52.361796Z",
     "start_time": "2025-10-06T03:27:52.358874Z"
    }
   },
   "source": [
    "@timed\n",
    "def submit_get_results(timed_fun, n, pool_type, as_completed=False, max_workers=None, verbose=False):\n",
    "    \"\"\"\n",
    "    Run a function across a pool of workers using submit, collecting results and execution times.\n",
    "\n",
    "    Parameters\n",
    "    ----------\n",
    "    timed_fun : callable\n",
    "        A function that accepts an integer and returns a tuple (result, exec_time).\n",
    "    n : int\n",
    "        Number of tasks to submit to the pool.\n",
    "    pool_type : type\n",
    "        The executor class to use (e.g., ThreadPoolExecutor or ProcessPoolExecutor).\n",
    "    as_completed : bool, optional\n",
    "        If True, results are collected as tasks complete. If False, results are collected in submission order.\n",
    "        Default is False.\n",
    "    max_workers : int or None, optional\n",
    "        The maximum number of workers for the pool. If None, the default for the executor is used.\n",
    "    verbose : bool, optional\n",
    "        If True, enables verbose output for the timed function. Default is False.\n",
    "\n",
    "    Returns\n",
    "    -------\n",
    "    results : list\n",
    "        List of results returned by `timed_fun`.\n",
    "    times : list of float\n",
    "        List of execution times for each task.\n",
    "    \"\"\"\n",
    "    with pool_type(max_workers) as pool:\n",
    "        tasks = []\n",
    "        pfun = partial(timed_fun, verbose=verbose)\n",
    "        for i in range(n):\n",
    "            tasks.append(pool.submit(pfun, i))\n",
    "        if as_completed:\n",
    "            results_times = [task.result() for task in concurrent.futures.as_completed(tasks)]\n",
    "        else:\n",
    "            results_times = [task.result() for task in tasks]\n",
    "        results, times = zip(*results_times)\n",
    "        return results, times"
   ],
   "outputs": [],
   "execution_count": 6
  },
  {
   "cell_type": "code",
   "id": "4d95afc8-589e-4a3c-ba73-8773a7a68bcd",
   "metadata": {
    "ExecuteTime": {
     "end_time": "2025-10-06T03:27:53.896570Z",
     "start_time": "2025-10-06T03:27:53.893946Z"
    }
   },
   "source": [
    "@timed\n",
    "def map_results(timed_fun, n, pool_type, max_workers=None, verbose=False):\n",
    "    \"\"\"Map a simple timed function across a range of argument values with a process Pool.\n",
    "\n",
    "    Parameters\n",
    "    ----------\n",
    "    timed_fun: callable\n",
    "        A function that accepts a single value argument, and returns a (result, seconds) tuple.\n",
    "    n: int\n",
    "        The range of values (from 0 to n - 1) to submit to `timed_fun`.\n",
    "    pool_type: type\n",
    "        The Pool class (e.g., multiprocessing.Pool).\n",
    "    max_workers: int, Optional\n",
    "        Maximum number of workers in the pool. Default: None.\n",
    "    verbose: bool, Optional\n",
    "        Verbose message printing. Default: False.\n",
    "\n",
    "    Returns\n",
    "    -------\n",
    "    tuple[list, list]\n",
    "        The results and run time for each task.\n",
    "    \"\"\"\n",
    "    with pool_type(max_workers) as pool:\n",
    "        pfun = partial(timed_fun, verbose=verbose)\n",
    "        results_times = pool.map(pfun, range(n))\n",
    "        results, times = zip(*results_times)\n",
    "        return results, times"
   ],
   "outputs": [],
   "execution_count": 7
  },
  {
   "cell_type": "code",
   "id": "aa9f07ec-67e0-498b-a384-3b73b19ca01e",
   "metadata": {
    "ExecuteTime": {
     "end_time": "2025-10-06T03:28:01.257391Z",
     "start_time": "2025-10-06T03:28:01.253395Z"
    }
   },
   "source": [
    "def display_results(timed_fun, n, pool_type, submit_type, as_completed=False, max_workers=None, verbose=False):\n",
    "    \"\"\"Display the results and run times of running tasks across a pool.\n",
    "\n",
    "    Parameters\n",
    "    ----------\n",
    "    timed_fun: callable\n",
    "        A function that accepts a single value argument, and returns a (result, seconds) tuple.\n",
    "    n: int\n",
    "        The range of values (from 0 to n - 1) to submit to `timed_fun`.\n",
    "    pool_type: type\n",
    "        The Pool class (e.g., multiprocessing.Pool).\n",
    "    submit_type: str\n",
    "        'submit' or 'map'.\n",
    "    as_completed: bool, Optional\n",
    "        Return results as they are completed, rather than in the original order of submission. Default: False.\n",
    "        (Ignored when submit_type == 'map')\n",
    "    max_workers: int, Optional\n",
    "        Maximum number of workers in the pool. Default: None.\n",
    "    verbose: bool, Optional\n",
    "        Verbose message printing. Default: False.\n",
    "    \"\"\"\n",
    "    \n",
    "    print(f\"Running: {timed_fun.__name__}\")\n",
    "    if submit_type == 'submit':\n",
    "        (results, times), total_time = submit_get_results(timed_fun, n, pool_type, as_completed=as_completed,\n",
    "                                                          max_workers=max_workers, verbose=verbose)\n",
    "    elif submit_type == 'map':\n",
    "        (results, times), total_time = map_results(timed_fun, n, pool_type, max_workers=max_workers, verbose=verbose)\n",
    "    else:\n",
    "        raise ValueError(f\"Unrecognized value for submit_type: {submit_type}\")\n",
    "    print(f\"Results: {results}\")\n",
    "    print(f\"Task times: {' + '.join(f'{t:.3g}' for t in times)} = {sum(times):.3g}\")\n",
    "    print(f\"Actual time: {total_time}\")"
   ],
   "outputs": [],
   "execution_count": 8
  },
  {
   "cell_type": "markdown",
   "id": "5dd8cab4-9bc7-4032-9b71-35aeef2628eb",
   "metadata": {},
   "source": [
    "## Create some simple timed functions that have delays or take a significant amount of compute time"
   ]
  },
  {
   "cell_type": "code",
   "id": "cba287d5-3a18-41d1-a916-5fdf6b9874d9",
   "metadata": {
    "ExecuteTime": {
     "end_time": "2025-10-06T03:28:08.001278Z",
     "start_time": "2025-10-06T03:28:07.997260Z"
    }
   },
   "source": [
    "@timed\n",
    "def delayed_return(value, seconds=None, seconds_mean=1, seconds_sigma=0.25, verbose=False):\n",
    "    \"\"\"\n",
    "    Sleep for a random or specified number of seconds, then return the given value.\n",
    "\n",
    "    Parameters\n",
    "    ----------\n",
    "    value : any\n",
    "        The value to return after sleeping.\n",
    "    seconds : float or None, optional\n",
    "        The number of seconds to sleep. If None, a random value is drawn from a normal\n",
    "        distribution with mean `seconds_mean` and standard deviation `seconds_sigma`.\n",
    "        Default is None.\n",
    "    seconds_mean : float, optional\n",
    "        Mean of the normal distribution for sleep time if `seconds` is None. Default is 1.\n",
    "    seconds_sigma : float, optional\n",
    "        Standard deviation of the normal distribution for sleep time if `seconds` is None. Default is 0.25.\n",
    "    verbose : bool, optional\n",
    "        If True, prints status messages. Default is False.\n",
    "\n",
    "    Returns\n",
    "    -------\n",
    "    value : any\n",
    "        The input value, returned after the delay.\n",
    "    \"\"\"\n",
    "    def vprint(*args, **kwargs):\n",
    "        if verbose:\n",
    "            print(*args, **kwargs)\n",
    "\n",
    "    vprint(f\"Starting with value: {value}\")\n",
    "    if seconds is None:\n",
    "        seconds = gauss(seconds_mean, seconds_sigma)\n",
    "    if seconds > 0:\n",
    "        sleep(seconds)\n",
    "    vprint(f\"Returning: {value}\")\n",
    "    return value"
   ],
   "outputs": [],
   "execution_count": 9
  },
  {
   "cell_type": "code",
   "id": "326db997-cc54-42eb-88c4-8af02fe77b7a",
   "metadata": {
    "ExecuteTime": {
     "end_time": "2025-10-06T03:28:09.107042Z",
     "start_time": "2025-10-06T03:28:09.103404Z"
    }
   },
   "source": [
    "@timed\n",
    "def long_factorize(offset, base=100000001, verbose=False):\n",
    "    \"\"\"\n",
    "    Find the greatest non-trivial factor pair of value = base + offset, eventually returning (1, value) if value is a\n",
    "     prime number. This is done inefficiently factorization, in order to take up CPU time.\n",
    "\n",
    "    Parameters\n",
    "    ----------\n",
    "    offset : int\n",
    "        The offset to add to the base value to form the target integer.\n",
    "    base : int, optional\n",
    "        The base value to which the offset is added. Default is 100000001.\n",
    "    verbose : bool, optional\n",
    "        If True, prints status messages. Default is False.\n",
    "\n",
    "    Returns\n",
    "    -------\n",
    "    value : int\n",
    "        The integer being factorized (base + offset).\n",
    "    f1 : int\n",
    "        The first factor found (largest factor less than value).\n",
    "    f2 : int\n",
    "        The second factor found (value divided by f1).\n",
    "    \"\"\"\n",
    "    def vprint(*args, **kwargs):\n",
    "        if verbose:\n",
    "            print(*args, **kwargs)\n",
    "\n",
    "    value = base + offset\n",
    "    vprint(f\"Finding factors of {base} + {offset} = {value}\")\n",
    "    next_guess = int(value / 2)\n",
    "    while next_guess > 1 and (value % next_guess):\n",
    "        next_guess -= 1\n",
    "    f1 = next_guess\n",
    "    f2 = value // next_guess\n",
    "    vprint(f\"{f1 * f2} = {f1} * {f2}\")\n",
    "    return value, f1, f2"
   ],
   "outputs": [],
   "execution_count": 10
  },
  {
   "cell_type": "code",
   "id": "982a8a0b-1a3e-44f3-838a-ec735da3b45e",
   "metadata": {
    "ExecuteTime": {
     "end_time": "2025-10-06T03:28:17.370765Z",
     "start_time": "2025-10-06T03:28:15.631007Z"
    }
   },
   "source": [
    "%%time\n",
    "long_factorize(0, verbose=True)"
   ],
   "outputs": [
    {
     "name": "stdout",
     "output_type": "stream",
     "text": [
      "Finding factors of 100000001 + 0 = 100000001\n",
      "100000001 = 5882353 * 17\n",
      "CPU times: user 1.73 s, sys: 6.64 ms, total: 1.74 s\n",
      "Wall time: 1.74 s\n"
     ]
    },
    {
     "data": {
      "text/plain": [
       "((100000001, 5882353, 17), 1.736630916595459)"
      ]
     },
     "execution_count": 11,
     "metadata": {},
     "output_type": "execute_result"
    }
   ],
   "execution_count": 11
  },
  {
   "cell_type": "markdown",
   "id": "2327fecb-1910-4874-b1b1-0f85438f0945",
   "metadata": {},
   "source": [
    "## Run a function that has a delay, but does not utilize CPU time. This is similar to waiting for a server response."
   ]
  },
  {
   "cell_type": "markdown",
   "id": "608cf621-d082-4cea-a5f8-7804860173bd",
   "metadata": {},
   "source": [
    "First, using only a single worker, run the task several times with variable delays."
   ]
  },
  {
   "cell_type": "code",
   "id": "cb1ca954-4106-4366-9989-17a6de948481",
   "metadata": {
    "ExecuteTime": {
     "end_time": "2025-10-06T03:28:52.944938Z",
     "start_time": "2025-10-06T03:28:43.418382Z"
    }
   },
   "source": [
    "display_results(delayed_return, 10, concurrent.futures.ThreadPoolExecutor, 'submit', max_workers=1)"
   ],
   "outputs": [
    {
     "name": "stdout",
     "output_type": "stream",
     "text": [
      "Running: delayed_return\n",
      "Results: (0, 1, 2, 3, 4, 5, 6, 7, 8, 9)\n",
      "Task times: 0.812 + 0.527 + 1.09 + 0.955 + 0.763 + 1.38 + 1.11 + 1.16 + 0.878 + 0.835 = 9.52\n",
      "Actual time: 9.523026943206787\n"
     ]
    }
   ],
   "execution_count": 12
  },
  {
   "cell_type": "markdown",
   "id": "fe320180-a660-4e09-ad84-6a6f2cedacb1",
   "metadata": {},
   "source": [
    "The time to complete all tasks equals the sum of the times to complete each individual task."
   ]
  },
  {
   "cell_type": "markdown",
   "id": "a5bf9f26-a357-4ccd-b801-613fff874fe0",
   "metadata": {},
   "source": [
    "Next, run the delayed tasks across a thread pool with multiple workers."
   ]
  },
  {
   "cell_type": "code",
   "id": "a72b5df2-b2e3-48e4-9175-88fc13370484",
   "metadata": {
    "ExecuteTime": {
     "end_time": "2025-10-06T03:29:02.288812Z",
     "start_time": "2025-10-06T03:29:00.833816Z"
    }
   },
   "source": [
    "display_results(delayed_return, 10, concurrent.futures.ThreadPoolExecutor, 'submit')"
   ],
   "outputs": [
    {
     "name": "stdout",
     "output_type": "stream",
     "text": [
      "Running: delayed_return\n",
      "Results: (0, 1, 2, 3, 4, 5, 6, 7, 8, 9)\n",
      "Task times: 0.87 + 0.789 + 1.22 + 1.21 + 1.19 + 1.45 + 0.948 + 0.47 + 0.604 + 1.07 = 9.82\n",
      "Actual time: 1.452613115310669\n"
     ]
    }
   ],
   "execution_count": 13
  },
  {
   "cell_type": "markdown",
   "id": "4683565f-b607-4ea6-bf83-ec47fe0ced90",
   "metadata": {},
   "source": [
    "The total time is only a bit longer than the time of the longest task, because the independent threads were waiting for the task responses in parallel, with minimal processing once the responses were received."
   ]
  },
  {
   "cell_type": "markdown",
   "id": "b8f8a273-7d1c-494b-b333-e8a72f1f314d",
   "metadata": {},
   "source": [
    "If we return results as completed, the ordering of the results is not preserved."
   ]
  },
  {
   "cell_type": "code",
   "id": "fa122f95-287f-4538-9dc5-e04062984a64",
   "metadata": {
    "ExecuteTime": {
     "end_time": "2025-10-06T03:29:11.049618Z",
     "start_time": "2025-10-06T03:29:09.758182Z"
    }
   },
   "source": [
    "display_results(delayed_return, 10, concurrent.futures.ThreadPoolExecutor, 'submit', as_completed=True)"
   ],
   "outputs": [
    {
     "name": "stdout",
     "output_type": "stream",
     "text": [
      "Running: delayed_return\n",
      "Results: (3, 7, 5, 4, 8, 9, 1, 0, 6, 2)\n",
      "Task times: 0.444 + 0.7 + 0.783 + 0.949 + 0.95 + 1.06 + 1.1 + 1.13 + 1.17 + 1.28 = 9.56\n",
      "Actual time: 1.286355972290039\n"
     ]
    }
   ],
   "execution_count": 14
  },
  {
   "cell_type": "markdown",
   "id": "8c04db70-9158-4ba0-a81d-4259fb6fa825",
   "metadata": {},
   "source": [
    "### Thread pools share a single CPU"
   ]
  },
  {
   "cell_type": "markdown",
   "id": "8dd9a65d-a924-4bbd-9d6b-e8d5a2afec72",
   "metadata": {},
   "source": [
    "Next, submit tasks which take up CPU time to a thread pool."
   ]
  },
  {
   "cell_type": "code",
   "id": "09df73e3-d8b1-4d8d-b459-47bb3bf4bd33",
   "metadata": {
    "ExecuteTime": {
     "end_time": "2025-10-06T03:29:33.175994Z",
     "start_time": "2025-10-06T03:29:24.967723Z"
    }
   },
   "source": [
    "display_results(long_factorize, 10, concurrent.futures.ThreadPoolExecutor, 'submit', as_completed=True)"
   ],
   "outputs": [
    {
     "name": "stdout",
     "output_type": "stream",
     "text": [
      "Running: long_factorize\n",
      "Results: ((100000008, 50000004, 2), (100000002, 50000001, 2), (100000010, 50000005, 2), (100000004, 50000002, 2), (100000006, 50000003, 2), (100000005, 33333335, 3), (100000001, 5882353, 17), (100000003, 155521, 643), (100000009, 671141, 149), (100000007, 1, 100000007))\n",
      "Task times: 9.3e-06 + 5.25e-06 + 5.25e-06 + 3.1e-06 + 4.05e-06 + 3.18 + 7.49 + 8.01 + 7.98 + 8.06 = 34.7\n",
      "Actual time: 8.206502199172974\n"
     ]
    }
   ],
   "execution_count": 15
  },
  {
   "cell_type": "markdown",
   "id": "9d1d8267-b7ea-4627-880c-65017edec3ab",
   "metadata": {},
   "source": [
    "The ThreadPoolExecutor does not run across multiple independent processes, but instead share a single CPU. Some tasks therefore stall while waiting for CPU time. The sum of execution times is therefore double-counting a lot of clock time."
   ]
  },
  {
   "cell_type": "code",
   "id": "b0639eb3-267b-4b8d-9b37-11a6aeb5382a",
   "metadata": {
    "ExecuteTime": {
     "end_time": "2025-10-06T03:30:05.399490Z",
     "start_time": "2025-10-06T03:29:56.919994Z"
    }
   },
   "source": [
    "display_results(long_factorize, 10, concurrent.futures.ThreadPoolExecutor, 'submit', max_workers=1, as_completed=True)"
   ],
   "outputs": [
    {
     "name": "stdout",
     "output_type": "stream",
     "text": [
      "Running: long_factorize\n",
      "Results: ((100000001, 5882353, 17), (100000002, 50000001, 2), (100000003, 155521, 643), (100000004, 50000002, 2), (100000005, 33333335, 3), (100000006, 50000003, 2), (100000007, 1, 100000007), (100000008, 50000004, 2), (100000009, 671141, 149), (100000010, 50000005, 2))\n",
      "Task times: 1.8 + 7.15e-06 + 2.05 + 3.81e-06 + 0.655 + 3.1e-06 + 1.98 + 4.05e-06 + 1.99 + 2.86e-06 = 8.48\n",
      "Actual time: 8.4774808883667\n"
     ]
    }
   ],
   "execution_count": 16
  },
  {
   "cell_type": "markdown",
   "id": "62b175b1-13eb-47e3-9d79-0e235a6d3c52",
   "metadata": {},
   "source": [
    "### Try using a process Pool"
   ]
  },
  {
   "cell_type": "code",
   "id": "dbd08c3e-67df-477c-8666-48591203dc2e",
   "metadata": {
    "scrolled": true,
    "ExecuteTime": {
     "end_time": "2025-10-06T03:30:22.995340Z",
     "start_time": "2025-10-06T03:30:19.210088Z"
    }
   },
   "source": [
    "# This will fail because the ProcessPool is attempting to pickle a local function when spawning workers.\n",
    "display_results(long_factorize, 1, multiprocessing.Pool, 'map')"
   ],
   "outputs": [
    {
     "name": "stdout",
     "output_type": "stream",
     "text": [
      "Running: long_factorize\n"
     ]
    },
    {
     "name": "stderr",
     "output_type": "stream",
     "text": [
      "Process SpawnPoolWorker-1:\n",
      "Traceback (most recent call last):\n",
      "  File \"/opt/homebrew/Cellar/python@3.13/3.13.5/Frameworks/Python.framework/Versions/3.13/lib/python3.13/multiprocessing/process.py\", line 313, in _bootstrap\n",
      "    self.run()\n",
      "    ~~~~~~~~^^\n",
      "  File \"/opt/homebrew/Cellar/python@3.13/3.13.5/Frameworks/Python.framework/Versions/3.13/lib/python3.13/multiprocessing/process.py\", line 108, in run\n",
      "    self._target(*self._args, **self._kwargs)\n",
      "    ~~~~~~~~~~~~^^^^^^^^^^^^^^^^^^^^^^^^^^^^^\n",
      "  File \"/opt/homebrew/Cellar/python@3.13/3.13.5/Frameworks/Python.framework/Versions/3.13/lib/python3.13/multiprocessing/pool.py\", line 114, in worker\n",
      "    task = get()\n",
      "  File \"/opt/homebrew/Cellar/python@3.13/3.13.5/Frameworks/Python.framework/Versions/3.13/lib/python3.13/multiprocessing/queues.py\", line 387, in get\n",
      "    return _ForkingPickler.loads(res)\n",
      "           ~~~~~~~~~~~~~~~~~~~~~^^^^^\n",
      "AttributeError: Can't get attribute 'long_factorize' on <module '__main__' (<class '_frozen_importlib.BuiltinImporter'>)>\n",
      "Process SpawnPoolWorker-17:\n",
      "Process SpawnPoolWorker-16:\n",
      "Process SpawnPoolWorker-15:\n",
      "Process SpawnPoolWorker-14:\n",
      "Process SpawnPoolWorker-13:\n",
      "Process SpawnPoolWorker-12:\n",
      "Process SpawnPoolWorker-11:\n",
      "Process SpawnPoolWorker-10:\n",
      "Process SpawnPoolWorker-9:\n",
      "Process SpawnPoolWorker-8:\n",
      "Process SpawnPoolWorker-7:\n",
      "Process SpawnPoolWorker-6:\n",
      "Process SpawnPoolWorker-5:\n",
      "Process SpawnPoolWorker-4:\n",
      "Process SpawnPoolWorker-3:\n",
      "Process SpawnPoolWorker-2:\n",
      "Traceback (most recent call last):\n",
      "Traceback (most recent call last):\n",
      "Traceback (most recent call last):\n",
      "Traceback (most recent call last):\n",
      "Traceback (most recent call last):\n",
      "Traceback (most recent call last):\n",
      "Traceback (most recent call last):\n",
      "Traceback (most recent call last):\n",
      "Traceback (most recent call last):\n",
      "Traceback (most recent call last):\n",
      "Traceback (most recent call last):\n",
      "Traceback (most recent call last):\n",
      "Traceback (most recent call last):\n",
      "Traceback (most recent call last):\n",
      "Traceback (most recent call last):\n",
      "  File \"/opt/homebrew/Cellar/python@3.13/3.13.5/Frameworks/Python.framework/Versions/3.13/lib/python3.13/multiprocessing/process.py\", line 313, in _bootstrap\n",
      "    self.run()\n",
      "    ~~~~~~~~^^\n",
      "  File \"/opt/homebrew/Cellar/python@3.13/3.13.5/Frameworks/Python.framework/Versions/3.13/lib/python3.13/multiprocessing/process.py\", line 108, in run\n",
      "    self._target(*self._args, **self._kwargs)\n",
      "    ~~~~~~~~~~~~^^^^^^^^^^^^^^^^^^^^^^^^^^^^^\n",
      "  File \"/opt/homebrew/Cellar/python@3.13/3.13.5/Frameworks/Python.framework/Versions/3.13/lib/python3.13/multiprocessing/pool.py\", line 114, in worker\n",
      "    task = get()\n",
      "  File \"/opt/homebrew/Cellar/python@3.13/3.13.5/Frameworks/Python.framework/Versions/3.13/lib/python3.13/multiprocessing/queues.py\", line 384, in get\n",
      "    with self._rlock:\n",
      "         ^^^^^^^^^^^\n",
      "  File \"/opt/homebrew/Cellar/python@3.13/3.13.5/Frameworks/Python.framework/Versions/3.13/lib/python3.13/multiprocessing/synchronize.py\", line 95, in __enter__\n",
      "    return self._semlock.__enter__()\n",
      "           ~~~~~~~~~~~~~~~~~~~~~~~^^\n",
      "KeyboardInterrupt\n",
      "  File \"/opt/homebrew/Cellar/python@3.13/3.13.5/Frameworks/Python.framework/Versions/3.13/lib/python3.13/multiprocessing/process.py\", line 313, in _bootstrap\n",
      "    self.run()\n",
      "    ~~~~~~~~^^\n",
      "  File \"/opt/homebrew/Cellar/python@3.13/3.13.5/Frameworks/Python.framework/Versions/3.13/lib/python3.13/multiprocessing/process.py\", line 108, in run\n",
      "    self._target(*self._args, **self._kwargs)\n",
      "    ~~~~~~~~~~~~^^^^^^^^^^^^^^^^^^^^^^^^^^^^^\n",
      "  File \"/opt/homebrew/Cellar/python@3.13/3.13.5/Frameworks/Python.framework/Versions/3.13/lib/python3.13/multiprocessing/pool.py\", line 114, in worker\n",
      "    task = get()\n",
      "  File \"/opt/homebrew/Cellar/python@3.13/3.13.5/Frameworks/Python.framework/Versions/3.13/lib/python3.13/multiprocessing/queues.py\", line 384, in get\n",
      "    with self._rlock:\n",
      "         ^^^^^^^^^^^\n",
      "  File \"/opt/homebrew/Cellar/python@3.13/3.13.5/Frameworks/Python.framework/Versions/3.13/lib/python3.13/multiprocessing/synchronize.py\", line 95, in __enter__\n",
      "    return self._semlock.__enter__()\n",
      "           ~~~~~~~~~~~~~~~~~~~~~~~^^\n",
      "KeyboardInterrupt\n",
      "  File \"/opt/homebrew/Cellar/python@3.13/3.13.5/Frameworks/Python.framework/Versions/3.13/lib/python3.13/multiprocessing/process.py\", line 313, in _bootstrap\n",
      "    self.run()\n",
      "    ~~~~~~~~^^\n",
      "  File \"/opt/homebrew/Cellar/python@3.13/3.13.5/Frameworks/Python.framework/Versions/3.13/lib/python3.13/multiprocessing/process.py\", line 108, in run\n",
      "    self._target(*self._args, **self._kwargs)\n",
      "    ~~~~~~~~~~~~^^^^^^^^^^^^^^^^^^^^^^^^^^^^^\n",
      "  File \"/opt/homebrew/Cellar/python@3.13/3.13.5/Frameworks/Python.framework/Versions/3.13/lib/python3.13/multiprocessing/pool.py\", line 114, in worker\n",
      "    task = get()\n",
      "  File \"/opt/homebrew/Cellar/python@3.13/3.13.5/Frameworks/Python.framework/Versions/3.13/lib/python3.13/multiprocessing/queues.py\", line 384, in get\n",
      "    with self._rlock:\n",
      "         ^^^^^^^^^^^\n",
      "  File \"/opt/homebrew/Cellar/python@3.13/3.13.5/Frameworks/Python.framework/Versions/3.13/lib/python3.13/multiprocessing/synchronize.py\", line 95, in __enter__\n",
      "    return self._semlock.__enter__()\n",
      "           ~~~~~~~~~~~~~~~~~~~~~~~^^\n",
      "KeyboardInterrupt\n",
      "Traceback (most recent call last):\n",
      "  File \"/opt/homebrew/Cellar/python@3.13/3.13.5/Frameworks/Python.framework/Versions/3.13/lib/python3.13/multiprocessing/process.py\", line 313, in _bootstrap\n",
      "    self.run()\n",
      "    ~~~~~~~~^^\n",
      "  File \"/opt/homebrew/Cellar/python@3.13/3.13.5/Frameworks/Python.framework/Versions/3.13/lib/python3.13/multiprocessing/process.py\", line 108, in run\n",
      "    self._target(*self._args, **self._kwargs)\n",
      "    ~~~~~~~~~~~~^^^^^^^^^^^^^^^^^^^^^^^^^^^^^\n",
      "  File \"/opt/homebrew/Cellar/python@3.13/3.13.5/Frameworks/Python.framework/Versions/3.13/lib/python3.13/multiprocessing/pool.py\", line 114, in worker\n",
      "    task = get()\n",
      "  File \"/opt/homebrew/Cellar/python@3.13/3.13.5/Frameworks/Python.framework/Versions/3.13/lib/python3.13/multiprocessing/queues.py\", line 384, in get\n",
      "    with self._rlock:\n",
      "         ^^^^^^^^^^^\n",
      "  File \"/opt/homebrew/Cellar/python@3.13/3.13.5/Frameworks/Python.framework/Versions/3.13/lib/python3.13/multiprocessing/synchronize.py\", line 95, in __enter__\n",
      "    return self._semlock.__enter__()\n",
      "           ~~~~~~~~~~~~~~~~~~~~~~~^^\n",
      "KeyboardInterrupt\n",
      "  File \"/opt/homebrew/Cellar/python@3.13/3.13.5/Frameworks/Python.framework/Versions/3.13/lib/python3.13/multiprocessing/process.py\", line 313, in _bootstrap\n",
      "    self.run()\n",
      "    ~~~~~~~~^^\n",
      "  File \"/opt/homebrew/Cellar/python@3.13/3.13.5/Frameworks/Python.framework/Versions/3.13/lib/python3.13/multiprocessing/process.py\", line 108, in run\n",
      "    self._target(*self._args, **self._kwargs)\n",
      "    ~~~~~~~~~~~~^^^^^^^^^^^^^^^^^^^^^^^^^^^^^\n",
      "  File \"/opt/homebrew/Cellar/python@3.13/3.13.5/Frameworks/Python.framework/Versions/3.13/lib/python3.13/multiprocessing/pool.py\", line 114, in worker\n",
      "    task = get()\n",
      "  File \"/opt/homebrew/Cellar/python@3.13/3.13.5/Frameworks/Python.framework/Versions/3.13/lib/python3.13/multiprocessing/queues.py\", line 384, in get\n",
      "    with self._rlock:\n",
      "         ^^^^^^^^^^^\n",
      "  File \"/opt/homebrew/Cellar/python@3.13/3.13.5/Frameworks/Python.framework/Versions/3.13/lib/python3.13/multiprocessing/synchronize.py\", line 95, in __enter__\n",
      "    return self._semlock.__enter__()\n",
      "           ~~~~~~~~~~~~~~~~~~~~~~~^^\n",
      "KeyboardInterrupt\n",
      "  File \"/opt/homebrew/Cellar/python@3.13/3.13.5/Frameworks/Python.framework/Versions/3.13/lib/python3.13/multiprocessing/process.py\", line 313, in _bootstrap\n",
      "    self.run()\n",
      "    ~~~~~~~~^^\n",
      "  File \"/opt/homebrew/Cellar/python@3.13/3.13.5/Frameworks/Python.framework/Versions/3.13/lib/python3.13/multiprocessing/process.py\", line 108, in run\n",
      "    self._target(*self._args, **self._kwargs)\n",
      "    ~~~~~~~~~~~~^^^^^^^^^^^^^^^^^^^^^^^^^^^^^\n",
      "  File \"/opt/homebrew/Cellar/python@3.13/3.13.5/Frameworks/Python.framework/Versions/3.13/lib/python3.13/multiprocessing/pool.py\", line 114, in worker\n",
      "    task = get()\n",
      "  File \"/opt/homebrew/Cellar/python@3.13/3.13.5/Frameworks/Python.framework/Versions/3.13/lib/python3.13/multiprocessing/queues.py\", line 384, in get\n",
      "    with self._rlock:\n",
      "         ^^^^^^^^^^^\n",
      "  File \"/opt/homebrew/Cellar/python@3.13/3.13.5/Frameworks/Python.framework/Versions/3.13/lib/python3.13/multiprocessing/synchronize.py\", line 95, in __enter__\n",
      "    return self._semlock.__enter__()\n",
      "           ~~~~~~~~~~~~~~~~~~~~~~~^^\n",
      "  File \"/opt/homebrew/Cellar/python@3.13/3.13.5/Frameworks/Python.framework/Versions/3.13/lib/python3.13/multiprocessing/process.py\", line 313, in _bootstrap\n",
      "    self.run()\n",
      "    ~~~~~~~~^^\n",
      "KeyboardInterrupt\n",
      "  File \"/opt/homebrew/Cellar/python@3.13/3.13.5/Frameworks/Python.framework/Versions/3.13/lib/python3.13/multiprocessing/process.py\", line 108, in run\n",
      "    self._target(*self._args, **self._kwargs)\n",
      "    ~~~~~~~~~~~~^^^^^^^^^^^^^^^^^^^^^^^^^^^^^\n",
      "  File \"/opt/homebrew/Cellar/python@3.13/3.13.5/Frameworks/Python.framework/Versions/3.13/lib/python3.13/multiprocessing/pool.py\", line 114, in worker\n",
      "    task = get()\n",
      "  File \"/opt/homebrew/Cellar/python@3.13/3.13.5/Frameworks/Python.framework/Versions/3.13/lib/python3.13/multiprocessing/queues.py\", line 384, in get\n",
      "    with self._rlock:\n",
      "         ^^^^^^^^^^^\n",
      "  File \"/opt/homebrew/Cellar/python@3.13/3.13.5/Frameworks/Python.framework/Versions/3.13/lib/python3.13/multiprocessing/synchronize.py\", line 95, in __enter__\n",
      "    return self._semlock.__enter__()\n",
      "           ~~~~~~~~~~~~~~~~~~~~~~~^^\n",
      "KeyboardInterrupt\n",
      "  File \"/opt/homebrew/Cellar/python@3.13/3.13.5/Frameworks/Python.framework/Versions/3.13/lib/python3.13/multiprocessing/process.py\", line 313, in _bootstrap\n",
      "    self.run()\n",
      "    ~~~~~~~~^^\n",
      "  File \"/opt/homebrew/Cellar/python@3.13/3.13.5/Frameworks/Python.framework/Versions/3.13/lib/python3.13/multiprocessing/process.py\", line 108, in run\n",
      "    self._target(*self._args, **self._kwargs)\n",
      "    ~~~~~~~~~~~~^^^^^^^^^^^^^^^^^^^^^^^^^^^^^\n",
      "  File \"/opt/homebrew/Cellar/python@3.13/3.13.5/Frameworks/Python.framework/Versions/3.13/lib/python3.13/multiprocessing/pool.py\", line 114, in worker\n",
      "    task = get()\n",
      "  File \"/opt/homebrew/Cellar/python@3.13/3.13.5/Frameworks/Python.framework/Versions/3.13/lib/python3.13/multiprocessing/queues.py\", line 384, in get\n",
      "    with self._rlock:\n",
      "         ^^^^^^^^^^^\n",
      "  File \"/opt/homebrew/Cellar/python@3.13/3.13.5/Frameworks/Python.framework/Versions/3.13/lib/python3.13/multiprocessing/synchronize.py\", line 95, in __enter__\n",
      "    return self._semlock.__enter__()\n",
      "           ~~~~~~~~~~~~~~~~~~~~~~~^^\n",
      "KeyboardInterrupt\n",
      "  File \"/opt/homebrew/Cellar/python@3.13/3.13.5/Frameworks/Python.framework/Versions/3.13/lib/python3.13/multiprocessing/process.py\", line 313, in _bootstrap\n",
      "    self.run()\n",
      "    ~~~~~~~~^^\n",
      "  File \"/opt/homebrew/Cellar/python@3.13/3.13.5/Frameworks/Python.framework/Versions/3.13/lib/python3.13/multiprocessing/process.py\", line 108, in run\n",
      "    self._target(*self._args, **self._kwargs)\n",
      "    ~~~~~~~~~~~~^^^^^^^^^^^^^^^^^^^^^^^^^^^^^\n",
      "  File \"/opt/homebrew/Cellar/python@3.13/3.13.5/Frameworks/Python.framework/Versions/3.13/lib/python3.13/multiprocessing/pool.py\", line 114, in worker\n",
      "    task = get()\n",
      "  File \"/opt/homebrew/Cellar/python@3.13/3.13.5/Frameworks/Python.framework/Versions/3.13/lib/python3.13/multiprocessing/queues.py\", line 384, in get\n",
      "    with self._rlock:\n",
      "         ^^^^^^^^^^^\n",
      "  File \"/opt/homebrew/Cellar/python@3.13/3.13.5/Frameworks/Python.framework/Versions/3.13/lib/python3.13/multiprocessing/synchronize.py\", line 95, in __enter__\n",
      "    return self._semlock.__enter__()\n",
      "           ~~~~~~~~~~~~~~~~~~~~~~~^^\n",
      "KeyboardInterrupt\n",
      "  File \"/opt/homebrew/Cellar/python@3.13/3.13.5/Frameworks/Python.framework/Versions/3.13/lib/python3.13/multiprocessing/process.py\", line 313, in _bootstrap\n",
      "    self.run()\n",
      "    ~~~~~~~~^^\n",
      "  File \"/opt/homebrew/Cellar/python@3.13/3.13.5/Frameworks/Python.framework/Versions/3.13/lib/python3.13/multiprocessing/process.py\", line 108, in run\n",
      "    self._target(*self._args, **self._kwargs)\n",
      "    ~~~~~~~~~~~~^^^^^^^^^^^^^^^^^^^^^^^^^^^^^\n",
      "  File \"/opt/homebrew/Cellar/python@3.13/3.13.5/Frameworks/Python.framework/Versions/3.13/lib/python3.13/multiprocessing/pool.py\", line 114, in worker\n",
      "    task = get()\n",
      "  File \"/opt/homebrew/Cellar/python@3.13/3.13.5/Frameworks/Python.framework/Versions/3.13/lib/python3.13/multiprocessing/queues.py\", line 384, in get\n",
      "    with self._rlock:\n",
      "         ^^^^^^^^^^^\n",
      "  File \"/opt/homebrew/Cellar/python@3.13/3.13.5/Frameworks/Python.framework/Versions/3.13/lib/python3.13/multiprocessing/synchronize.py\", line 95, in __enter__\n",
      "    return self._semlock.__enter__()\n",
      "           ~~~~~~~~~~~~~~~~~~~~~~~^^\n",
      "KeyboardInterrupt\n",
      "  File \"/opt/homebrew/Cellar/python@3.13/3.13.5/Frameworks/Python.framework/Versions/3.13/lib/python3.13/multiprocessing/process.py\", line 313, in _bootstrap\n",
      "    self.run()\n",
      "    ~~~~~~~~^^\n",
      "  File \"/opt/homebrew/Cellar/python@3.13/3.13.5/Frameworks/Python.framework/Versions/3.13/lib/python3.13/multiprocessing/process.py\", line 108, in run\n",
      "    self._target(*self._args, **self._kwargs)\n",
      "    ~~~~~~~~~~~~^^^^^^^^^^^^^^^^^^^^^^^^^^^^^\n",
      "  File \"/opt/homebrew/Cellar/python@3.13/3.13.5/Frameworks/Python.framework/Versions/3.13/lib/python3.13/multiprocessing/pool.py\", line 114, in worker\n",
      "    task = get()\n",
      "  File \"/opt/homebrew/Cellar/python@3.13/3.13.5/Frameworks/Python.framework/Versions/3.13/lib/python3.13/multiprocessing/queues.py\", line 384, in get\n",
      "    with self._rlock:\n",
      "         ^^^^^^^^^^^\n",
      "  File \"/opt/homebrew/Cellar/python@3.13/3.13.5/Frameworks/Python.framework/Versions/3.13/lib/python3.13/multiprocessing/synchronize.py\", line 95, in __enter__\n",
      "    return self._semlock.__enter__()\n",
      "           ~~~~~~~~~~~~~~~~~~~~~~~^^\n",
      "KeyboardInterrupt\n",
      "  File \"/opt/homebrew/Cellar/python@3.13/3.13.5/Frameworks/Python.framework/Versions/3.13/lib/python3.13/multiprocessing/process.py\", line 313, in _bootstrap\n",
      "    self.run()\n",
      "    ~~~~~~~~^^\n",
      "  File \"/opt/homebrew/Cellar/python@3.13/3.13.5/Frameworks/Python.framework/Versions/3.13/lib/python3.13/multiprocessing/process.py\", line 108, in run\n",
      "    self._target(*self._args, **self._kwargs)\n",
      "    ~~~~~~~~~~~~^^^^^^^^^^^^^^^^^^^^^^^^^^^^^\n",
      "  File \"/opt/homebrew/Cellar/python@3.13/3.13.5/Frameworks/Python.framework/Versions/3.13/lib/python3.13/multiprocessing/pool.py\", line 114, in worker\n",
      "    task = get()\n",
      "  File \"/opt/homebrew/Cellar/python@3.13/3.13.5/Frameworks/Python.framework/Versions/3.13/lib/python3.13/multiprocessing/queues.py\", line 384, in get\n",
      "    with self._rlock:\n",
      "         ^^^^^^^^^^^\n",
      "  File \"/opt/homebrew/Cellar/python@3.13/3.13.5/Frameworks/Python.framework/Versions/3.13/lib/python3.13/multiprocessing/synchronize.py\", line 95, in __enter__\n",
      "    return self._semlock.__enter__()\n",
      "           ~~~~~~~~~~~~~~~~~~~~~~~^^\n",
      "KeyboardInterrupt\n",
      "  File \"/opt/homebrew/Cellar/python@3.13/3.13.5/Frameworks/Python.framework/Versions/3.13/lib/python3.13/multiprocessing/process.py\", line 313, in _bootstrap\n",
      "    self.run()\n",
      "    ~~~~~~~~^^\n",
      "  File \"/opt/homebrew/Cellar/python@3.13/3.13.5/Frameworks/Python.framework/Versions/3.13/lib/python3.13/multiprocessing/process.py\", line 108, in run\n",
      "    self._target(*self._args, **self._kwargs)\n",
      "    ~~~~~~~~~~~~^^^^^^^^^^^^^^^^^^^^^^^^^^^^^\n",
      "  File \"/opt/homebrew/Cellar/python@3.13/3.13.5/Frameworks/Python.framework/Versions/3.13/lib/python3.13/multiprocessing/pool.py\", line 114, in worker\n",
      "    task = get()\n",
      "  File \"/opt/homebrew/Cellar/python@3.13/3.13.5/Frameworks/Python.framework/Versions/3.13/lib/python3.13/multiprocessing/queues.py\", line 384, in get\n",
      "    with self._rlock:\n",
      "         ^^^^^^^^^^^\n",
      "  File \"/opt/homebrew/Cellar/python@3.13/3.13.5/Frameworks/Python.framework/Versions/3.13/lib/python3.13/multiprocessing/synchronize.py\", line 95, in __enter__\n",
      "    return self._semlock.__enter__()\n",
      "           ~~~~~~~~~~~~~~~~~~~~~~~^^\n",
      "KeyboardInterrupt\n",
      "  File \"/opt/homebrew/Cellar/python@3.13/3.13.5/Frameworks/Python.framework/Versions/3.13/lib/python3.13/multiprocessing/process.py\", line 313, in _bootstrap\n",
      "    self.run()\n",
      "    ~~~~~~~~^^\n",
      "  File \"/opt/homebrew/Cellar/python@3.13/3.13.5/Frameworks/Python.framework/Versions/3.13/lib/python3.13/multiprocessing/process.py\", line 108, in run\n",
      "    self._target(*self._args, **self._kwargs)\n",
      "    ~~~~~~~~~~~~^^^^^^^^^^^^^^^^^^^^^^^^^^^^^\n",
      "  File \"/opt/homebrew/Cellar/python@3.13/3.13.5/Frameworks/Python.framework/Versions/3.13/lib/python3.13/multiprocessing/pool.py\", line 114, in worker\n",
      "    task = get()\n",
      "  File \"/opt/homebrew/Cellar/python@3.13/3.13.5/Frameworks/Python.framework/Versions/3.13/lib/python3.13/multiprocessing/queues.py\", line 384, in get\n",
      "    with self._rlock:\n",
      "         ^^^^^^^^^^^\n",
      "  File \"/opt/homebrew/Cellar/python@3.13/3.13.5/Frameworks/Python.framework/Versions/3.13/lib/python3.13/multiprocessing/synchronize.py\", line 95, in __enter__\n",
      "    return self._semlock.__enter__()\n",
      "           ~~~~~~~~~~~~~~~~~~~~~~~^^\n",
      "KeyboardInterrupt\n",
      "  File \"/opt/homebrew/Cellar/python@3.13/3.13.5/Frameworks/Python.framework/Versions/3.13/lib/python3.13/multiprocessing/process.py\", line 313, in _bootstrap\n",
      "    self.run()\n",
      "    ~~~~~~~~^^\n",
      "  File \"/opt/homebrew/Cellar/python@3.13/3.13.5/Frameworks/Python.framework/Versions/3.13/lib/python3.13/multiprocessing/process.py\", line 108, in run\n",
      "    self._target(*self._args, **self._kwargs)\n",
      "    ~~~~~~~~~~~~^^^^^^^^^^^^^^^^^^^^^^^^^^^^^\n",
      "  File \"/opt/homebrew/Cellar/python@3.13/3.13.5/Frameworks/Python.framework/Versions/3.13/lib/python3.13/multiprocessing/pool.py\", line 114, in worker\n",
      "    task = get()\n",
      "  File \"/opt/homebrew/Cellar/python@3.13/3.13.5/Frameworks/Python.framework/Versions/3.13/lib/python3.13/multiprocessing/queues.py\", line 384, in get\n",
      "    with self._rlock:\n",
      "         ^^^^^^^^^^^\n",
      "  File \"/opt/homebrew/Cellar/python@3.13/3.13.5/Frameworks/Python.framework/Versions/3.13/lib/python3.13/multiprocessing/synchronize.py\", line 95, in __enter__\n",
      "    return self._semlock.__enter__()\n",
      "           ~~~~~~~~~~~~~~~~~~~~~~~^^\n",
      "KeyboardInterrupt\n",
      "  File \"/opt/homebrew/Cellar/python@3.13/3.13.5/Frameworks/Python.framework/Versions/3.13/lib/python3.13/multiprocessing/process.py\", line 313, in _bootstrap\n",
      "    self.run()\n",
      "    ~~~~~~~~^^\n",
      "  File \"/opt/homebrew/Cellar/python@3.13/3.13.5/Frameworks/Python.framework/Versions/3.13/lib/python3.13/multiprocessing/process.py\", line 108, in run\n",
      "    self._target(*self._args, **self._kwargs)\n",
      "    ~~~~~~~~~~~~^^^^^^^^^^^^^^^^^^^^^^^^^^^^^\n",
      "  File \"/opt/homebrew/Cellar/python@3.13/3.13.5/Frameworks/Python.framework/Versions/3.13/lib/python3.13/multiprocessing/pool.py\", line 114, in worker\n",
      "    task = get()\n",
      "  File \"/opt/homebrew/Cellar/python@3.13/3.13.5/Frameworks/Python.framework/Versions/3.13/lib/python3.13/multiprocessing/queues.py\", line 385, in get\n",
      "    res = self._reader.recv_bytes()\n",
      "  File \"/opt/homebrew/Cellar/python@3.13/3.13.5/Frameworks/Python.framework/Versions/3.13/lib/python3.13/multiprocessing/connection.py\", line 216, in recv_bytes\n",
      "    buf = self._recv_bytes(maxlength)\n",
      "  File \"/opt/homebrew/Cellar/python@3.13/3.13.5/Frameworks/Python.framework/Versions/3.13/lib/python3.13/multiprocessing/connection.py\", line 430, in _recv_bytes\n",
      "    buf = self._recv(4)\n",
      "  File \"/opt/homebrew/Cellar/python@3.13/3.13.5/Frameworks/Python.framework/Versions/3.13/lib/python3.13/multiprocessing/connection.py\", line 395, in _recv\n",
      "    chunk = read(handle, remaining)\n",
      "KeyboardInterrupt\n"
     ]
    },
    {
     "ename": "KeyboardInterrupt",
     "evalue": "",
     "output_type": "error",
     "traceback": [
      "\u001B[31m---------------------------------------------------------------------------\u001B[39m",
      "\u001B[31mKeyboardInterrupt\u001B[39m                         Traceback (most recent call last)",
      "\u001B[36mCell\u001B[39m\u001B[36m \u001B[39m\u001B[32mIn[17]\u001B[39m\u001B[32m, line 2\u001B[39m\n\u001B[32m      1\u001B[39m \u001B[38;5;66;03m# This will fail\u001B[39;00m\n\u001B[32m----> \u001B[39m\u001B[32m2\u001B[39m \u001B[43mdisplay_results\u001B[49m\u001B[43m(\u001B[49m\u001B[43mlong_factorize\u001B[49m\u001B[43m,\u001B[49m\u001B[43m \u001B[49m\u001B[32;43m1\u001B[39;49m\u001B[43m,\u001B[49m\u001B[43m \u001B[49m\u001B[43mmultiprocessing\u001B[49m\u001B[43m.\u001B[49m\u001B[43mPool\u001B[49m\u001B[43m,\u001B[49m\u001B[43m \u001B[49m\u001B[33;43m'\u001B[39;49m\u001B[33;43mmap\u001B[39;49m\u001B[33;43m'\u001B[39;49m\u001B[43m)\u001B[49m\n",
      "\u001B[36mCell\u001B[39m\u001B[36m \u001B[39m\u001B[32mIn[8]\u001B[39m\u001B[32m, line 28\u001B[39m, in \u001B[36mdisplay_results\u001B[39m\u001B[34m(timed_fun, n, pool_type, submit_type, as_completed, max_workers, verbose)\u001B[39m\n\u001B[32m     25\u001B[39m     (results, times), total_time = submit_get_results(timed_fun, n, pool_type, as_completed=as_completed,\n\u001B[32m     26\u001B[39m                                                       max_workers=max_workers, verbose=verbose)\n\u001B[32m     27\u001B[39m \u001B[38;5;28;01melif\u001B[39;00m submit_type == \u001B[33m'\u001B[39m\u001B[33mmap\u001B[39m\u001B[33m'\u001B[39m:\n\u001B[32m---> \u001B[39m\u001B[32m28\u001B[39m     (results, times), total_time = \u001B[43mmap_results\u001B[49m\u001B[43m(\u001B[49m\u001B[43mtimed_fun\u001B[49m\u001B[43m,\u001B[49m\u001B[43m \u001B[49m\u001B[43mn\u001B[49m\u001B[43m,\u001B[49m\u001B[43m \u001B[49m\u001B[43mpool_type\u001B[49m\u001B[43m,\u001B[49m\u001B[43m \u001B[49m\u001B[43mmax_workers\u001B[49m\u001B[43m=\u001B[49m\u001B[43mmax_workers\u001B[49m\u001B[43m,\u001B[49m\u001B[43m \u001B[49m\u001B[43mverbose\u001B[49m\u001B[43m=\u001B[49m\u001B[43mverbose\u001B[49m\u001B[43m)\u001B[49m\n\u001B[32m     29\u001B[39m \u001B[38;5;28;01melse\u001B[39;00m:\n\u001B[32m     30\u001B[39m     \u001B[38;5;28;01mraise\u001B[39;00m \u001B[38;5;167;01mValueError\u001B[39;00m(\u001B[33mf\u001B[39m\u001B[33m\"\u001B[39m\u001B[33mUnrecognized value for submit_type: \u001B[39m\u001B[38;5;132;01m{\u001B[39;00msubmit_type\u001B[38;5;132;01m}\u001B[39;00m\u001B[33m\"\u001B[39m)\n",
      "\u001B[36mCell\u001B[39m\u001B[36m \u001B[39m\u001B[32mIn[5]\u001B[39m\u001B[32m, line 20\u001B[39m, in \u001B[36mtimed.<locals>.f_timed\u001B[39m\u001B[34m(*args, **kwargs)\u001B[39m\n\u001B[32m     17\u001B[39m \u001B[38;5;129m@wraps\u001B[39m(f)\n\u001B[32m     18\u001B[39m \u001B[38;5;28;01mdef\u001B[39;00m\u001B[38;5;250m \u001B[39m\u001B[34mf_timed\u001B[39m(*args, **kwargs):\n\u001B[32m     19\u001B[39m     t0 = time()\n\u001B[32m---> \u001B[39m\u001B[32m20\u001B[39m     result = \u001B[43mf\u001B[49m\u001B[43m(\u001B[49m\u001B[43m*\u001B[49m\u001B[43margs\u001B[49m\u001B[43m,\u001B[49m\u001B[43m \u001B[49m\u001B[43m*\u001B[49m\u001B[43m*\u001B[49m\u001B[43mkwargs\u001B[49m\u001B[43m)\u001B[49m\n\u001B[32m     21\u001B[39m     t = time() - t0\n\u001B[32m     22\u001B[39m     \u001B[38;5;28;01mreturn\u001B[39;00m result, t\n",
      "\u001B[36mCell\u001B[39m\u001B[36m \u001B[39m\u001B[32mIn[7]\u001B[39m\u001B[32m, line 25\u001B[39m, in \u001B[36mmap_results\u001B[39m\u001B[34m(timed_fun, n, pool_type, max_workers, verbose)\u001B[39m\n\u001B[32m     23\u001B[39m \u001B[38;5;28;01mwith\u001B[39;00m pool_type(max_workers) \u001B[38;5;28;01mas\u001B[39;00m pool:\n\u001B[32m     24\u001B[39m     pfun = partial(timed_fun, verbose=verbose)\n\u001B[32m---> \u001B[39m\u001B[32m25\u001B[39m     results_times = \u001B[43mpool\u001B[49m\u001B[43m.\u001B[49m\u001B[43mmap\u001B[49m\u001B[43m(\u001B[49m\u001B[43mpfun\u001B[49m\u001B[43m,\u001B[49m\u001B[43m \u001B[49m\u001B[38;5;28;43mrange\u001B[39;49m\u001B[43m(\u001B[49m\u001B[43mn\u001B[49m\u001B[43m)\u001B[49m\u001B[43m)\u001B[49m\n\u001B[32m     26\u001B[39m     results, times = \u001B[38;5;28mzip\u001B[39m(*results_times)\n\u001B[32m     27\u001B[39m     \u001B[38;5;28;01mreturn\u001B[39;00m results, times\n",
      "\u001B[36mFile \u001B[39m\u001B[32m/opt/homebrew/Cellar/python@3.13/3.13.5/Frameworks/Python.framework/Versions/3.13/lib/python3.13/multiprocessing/pool.py:367\u001B[39m, in \u001B[36mPool.map\u001B[39m\u001B[34m(self, func, iterable, chunksize)\u001B[39m\n\u001B[32m    362\u001B[39m \u001B[38;5;28;01mdef\u001B[39;00m\u001B[38;5;250m \u001B[39m\u001B[34mmap\u001B[39m(\u001B[38;5;28mself\u001B[39m, func, iterable, chunksize=\u001B[38;5;28;01mNone\u001B[39;00m):\n\u001B[32m    363\u001B[39m \u001B[38;5;250m    \u001B[39m\u001B[33;03m'''\u001B[39;00m\n\u001B[32m    364\u001B[39m \u001B[33;03m    Apply `func` to each element in `iterable`, collecting the results\u001B[39;00m\n\u001B[32m    365\u001B[39m \u001B[33;03m    in a list that is returned.\u001B[39;00m\n\u001B[32m    366\u001B[39m \u001B[33;03m    '''\u001B[39;00m\n\u001B[32m--> \u001B[39m\u001B[32m367\u001B[39m     \u001B[38;5;28;01mreturn\u001B[39;00m \u001B[38;5;28;43mself\u001B[39;49m\u001B[43m.\u001B[49m\u001B[43m_map_async\u001B[49m\u001B[43m(\u001B[49m\u001B[43mfunc\u001B[49m\u001B[43m,\u001B[49m\u001B[43m \u001B[49m\u001B[43miterable\u001B[49m\u001B[43m,\u001B[49m\u001B[43m \u001B[49m\u001B[43mmapstar\u001B[49m\u001B[43m,\u001B[49m\u001B[43m \u001B[49m\u001B[43mchunksize\u001B[49m\u001B[43m)\u001B[49m\u001B[43m.\u001B[49m\u001B[43mget\u001B[49m\u001B[43m(\u001B[49m\u001B[43m)\u001B[49m\n",
      "\u001B[36mFile \u001B[39m\u001B[32m/opt/homebrew/Cellar/python@3.13/3.13.5/Frameworks/Python.framework/Versions/3.13/lib/python3.13/multiprocessing/pool.py:768\u001B[39m, in \u001B[36mApplyResult.get\u001B[39m\u001B[34m(self, timeout)\u001B[39m\n\u001B[32m    767\u001B[39m \u001B[38;5;28;01mdef\u001B[39;00m\u001B[38;5;250m \u001B[39m\u001B[34mget\u001B[39m(\u001B[38;5;28mself\u001B[39m, timeout=\u001B[38;5;28;01mNone\u001B[39;00m):\n\u001B[32m--> \u001B[39m\u001B[32m768\u001B[39m     \u001B[38;5;28;43mself\u001B[39;49m\u001B[43m.\u001B[49m\u001B[43mwait\u001B[49m\u001B[43m(\u001B[49m\u001B[43mtimeout\u001B[49m\u001B[43m)\u001B[49m\n\u001B[32m    769\u001B[39m     \u001B[38;5;28;01mif\u001B[39;00m \u001B[38;5;129;01mnot\u001B[39;00m \u001B[38;5;28mself\u001B[39m.ready():\n\u001B[32m    770\u001B[39m         \u001B[38;5;28;01mraise\u001B[39;00m \u001B[38;5;167;01mTimeoutError\u001B[39;00m\n",
      "\u001B[36mFile \u001B[39m\u001B[32m/opt/homebrew/Cellar/python@3.13/3.13.5/Frameworks/Python.framework/Versions/3.13/lib/python3.13/multiprocessing/pool.py:765\u001B[39m, in \u001B[36mApplyResult.wait\u001B[39m\u001B[34m(self, timeout)\u001B[39m\n\u001B[32m    764\u001B[39m \u001B[38;5;28;01mdef\u001B[39;00m\u001B[38;5;250m \u001B[39m\u001B[34mwait\u001B[39m(\u001B[38;5;28mself\u001B[39m, timeout=\u001B[38;5;28;01mNone\u001B[39;00m):\n\u001B[32m--> \u001B[39m\u001B[32m765\u001B[39m     \u001B[38;5;28;43mself\u001B[39;49m\u001B[43m.\u001B[49m\u001B[43m_event\u001B[49m\u001B[43m.\u001B[49m\u001B[43mwait\u001B[49m\u001B[43m(\u001B[49m\u001B[43mtimeout\u001B[49m\u001B[43m)\u001B[49m\n",
      "\u001B[36mFile \u001B[39m\u001B[32m/opt/homebrew/Cellar/python@3.13/3.13.5/Frameworks/Python.framework/Versions/3.13/lib/python3.13/threading.py:659\u001B[39m, in \u001B[36mEvent.wait\u001B[39m\u001B[34m(self, timeout)\u001B[39m\n\u001B[32m    657\u001B[39m signaled = \u001B[38;5;28mself\u001B[39m._flag\n\u001B[32m    658\u001B[39m \u001B[38;5;28;01mif\u001B[39;00m \u001B[38;5;129;01mnot\u001B[39;00m signaled:\n\u001B[32m--> \u001B[39m\u001B[32m659\u001B[39m     signaled = \u001B[38;5;28;43mself\u001B[39;49m\u001B[43m.\u001B[49m\u001B[43m_cond\u001B[49m\u001B[43m.\u001B[49m\u001B[43mwait\u001B[49m\u001B[43m(\u001B[49m\u001B[43mtimeout\u001B[49m\u001B[43m)\u001B[49m\n\u001B[32m    660\u001B[39m \u001B[38;5;28;01mreturn\u001B[39;00m signaled\n",
      "\u001B[36mFile \u001B[39m\u001B[32m/opt/homebrew/Cellar/python@3.13/3.13.5/Frameworks/Python.framework/Versions/3.13/lib/python3.13/threading.py:359\u001B[39m, in \u001B[36mCondition.wait\u001B[39m\u001B[34m(self, timeout)\u001B[39m\n\u001B[32m    357\u001B[39m \u001B[38;5;28;01mtry\u001B[39;00m:    \u001B[38;5;66;03m# restore state no matter what (e.g., KeyboardInterrupt)\u001B[39;00m\n\u001B[32m    358\u001B[39m     \u001B[38;5;28;01mif\u001B[39;00m timeout \u001B[38;5;129;01mis\u001B[39;00m \u001B[38;5;28;01mNone\u001B[39;00m:\n\u001B[32m--> \u001B[39m\u001B[32m359\u001B[39m         \u001B[43mwaiter\u001B[49m\u001B[43m.\u001B[49m\u001B[43macquire\u001B[49m\u001B[43m(\u001B[49m\u001B[43m)\u001B[49m\n\u001B[32m    360\u001B[39m         gotit = \u001B[38;5;28;01mTrue\u001B[39;00m\n\u001B[32m    361\u001B[39m     \u001B[38;5;28;01melse\u001B[39;00m:\n",
      "\u001B[31mKeyboardInterrupt\u001B[39m: "
     ]
    }
   ],
   "execution_count": 17
  },
  {
   "metadata": {},
   "cell_type": "markdown",
   "source": "The `multiprocess` library fixes the problem. A second workaround will be shown in `demo_1b.ipynb`",
   "id": "ad83419df8fdd23e"
  },
  {
   "metadata": {
    "ExecuteTime": {
     "end_time": "2025-10-06T03:34:30.336889Z",
     "start_time": "2025-10-06T03:34:30.324550Z"
    }
   },
   "cell_type": "code",
   "source": "import multiprocess",
   "id": "39880c0a4e2cd5fd",
   "outputs": [],
   "execution_count": 18
  },
  {
   "metadata": {
    "ExecuteTime": {
     "end_time": "2025-10-06T03:35:41.271980Z",
     "start_time": "2025-10-06T03:35:38.941101Z"
    }
   },
   "cell_type": "code",
   "source": "display_results(long_factorize, 10, multiprocess.Pool, 'map')",
   "id": "ebbe27416907fc48",
   "outputs": [
    {
     "name": "stdout",
     "output_type": "stream",
     "text": [
      "Running: long_factorize\n",
      "Results: ((100000001, 5882353, 17), (100000002, 50000001, 2), (100000003, 155521, 643), (100000004, 50000002, 2), (100000005, 33333335, 3), (100000006, 50000003, 2), (100000007, 1, 100000007), (100000008, 50000004, 2), (100000009, 671141, 149), (100000010, 50000005, 2))\n",
      "Task times: 2.03 + 8.34e-06 + 2.29 + 6.91e-06 + 0.764 + 8.11e-06 + 2.29 + 1.19e-05 + 2.26 + 8.11e-06 = 9.64\n",
      "Actual time: 2.3283560276031494\n"
     ]
    }
   ],
   "execution_count": 21
  },
  {
   "metadata": {},
   "cell_type": "code",
   "outputs": [],
   "execution_count": null,
   "source": "",
   "id": "9dfdf2b932867155"
  }
 ],
 "metadata": {
  "kernelspec": {
   "display_name": "Python 3 (ipykernel)",
   "language": "python",
   "name": "python3"
  },
  "language_info": {
   "codemirror_mode": {
    "name": "ipython",
    "version": 3
   },
   "file_extension": ".py",
   "mimetype": "text/x-python",
   "name": "python",
   "nbconvert_exporter": "python",
   "pygments_lexer": "ipython3",
   "version": "3.13.5"
  }
 },
 "nbformat": 4,
 "nbformat_minor": 5
}
